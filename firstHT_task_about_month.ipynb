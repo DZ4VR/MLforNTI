{
 "cells": [
  {
   "cell_type": "code",
   "execution_count": 1,
   "metadata": {},
   "outputs": [],
   "source": [
    "import pandas as pd\n",
    "import matplotlib.pyplot as plt\n",
    "import numpy as np\n",
    "%matplotlib inline \n",
    "from sklearn.model_selection import train_test_split\n",
    "from sklearn import metrics \n",
    "%config InlineBackend.figure_format = 'retina' #Эта строчка улучшает качевство на маках с ретиной. \n",
    "                                                #Если у вас не ретина, удалите"
   ]
  },
  {
   "cell_type": "code",
   "execution_count": 2,
   "metadata": {},
   "outputs": [],
   "source": [
    "x = [1,2,3,4,5,6,7,8,9,10,11]\n",
    "y = [2,5,10,17,26,37,50,65,82,101,122]"
   ]
  },
  {
   "cell_type": "code",
   "execution_count": 3,
   "metadata": {},
   "outputs": [],
   "source": [
    "# не обязательно\n",
    "# что, если данных больше?\n",
    "# def f(x):\n",
    "#     return x**2+1\n",
    "\n",
    "# amount = 100\n",
    "# y = []\n",
    "# x = list(range(amount))\n",
    "# for i in range(amount):\n",
    "#     y.append(f(i))\n"
   ]
  },
  {
   "cell_type": "code",
   "execution_count": 4,
   "metadata": {},
   "outputs": [
    {
     "data": {
      "text/html": [
       "<div>\n",
       "<style scoped>\n",
       "    .dataframe tbody tr th:only-of-type {\n",
       "        vertical-align: middle;\n",
       "    }\n",
       "\n",
       "    .dataframe tbody tr th {\n",
       "        vertical-align: top;\n",
       "    }\n",
       "\n",
       "    .dataframe thead th {\n",
       "        text-align: right;\n",
       "    }\n",
       "</style>\n",
       "<table border=\"1\" class=\"dataframe\">\n",
       "  <thead>\n",
       "    <tr style=\"text-align: right;\">\n",
       "      <th></th>\n",
       "      <th>x</th>\n",
       "      <th>y</th>\n",
       "    </tr>\n",
       "  </thead>\n",
       "  <tbody>\n",
       "    <tr>\n",
       "      <th>0</th>\n",
       "      <td>1</td>\n",
       "      <td>2</td>\n",
       "    </tr>\n",
       "    <tr>\n",
       "      <th>1</th>\n",
       "      <td>2</td>\n",
       "      <td>5</td>\n",
       "    </tr>\n",
       "    <tr>\n",
       "      <th>2</th>\n",
       "      <td>3</td>\n",
       "      <td>10</td>\n",
       "    </tr>\n",
       "    <tr>\n",
       "      <th>3</th>\n",
       "      <td>4</td>\n",
       "      <td>17</td>\n",
       "    </tr>\n",
       "    <tr>\n",
       "      <th>4</th>\n",
       "      <td>5</td>\n",
       "      <td>26</td>\n",
       "    </tr>\n",
       "    <tr>\n",
       "      <th>5</th>\n",
       "      <td>6</td>\n",
       "      <td>37</td>\n",
       "    </tr>\n",
       "    <tr>\n",
       "      <th>6</th>\n",
       "      <td>7</td>\n",
       "      <td>50</td>\n",
       "    </tr>\n",
       "    <tr>\n",
       "      <th>7</th>\n",
       "      <td>8</td>\n",
       "      <td>65</td>\n",
       "    </tr>\n",
       "    <tr>\n",
       "      <th>8</th>\n",
       "      <td>9</td>\n",
       "      <td>82</td>\n",
       "    </tr>\n",
       "    <tr>\n",
       "      <th>9</th>\n",
       "      <td>10</td>\n",
       "      <td>101</td>\n",
       "    </tr>\n",
       "    <tr>\n",
       "      <th>10</th>\n",
       "      <td>11</td>\n",
       "      <td>122</td>\n",
       "    </tr>\n",
       "  </tbody>\n",
       "</table>\n",
       "</div>"
      ],
      "text/plain": [
       "     x    y\n",
       "0    1    2\n",
       "1    2    5\n",
       "2    3   10\n",
       "3    4   17\n",
       "4    5   26\n",
       "5    6   37\n",
       "6    7   50\n",
       "7    8   65\n",
       "8    9   82\n",
       "9   10  101\n",
       "10  11  122"
      ]
     },
     "execution_count": 4,
     "metadata": {},
     "output_type": "execute_result"
    }
   ],
   "source": [
    "df = pd.DataFrame({'x' : x, 'y' : y})\n",
    "df"
   ]
  },
  {
   "cell_type": "markdown",
   "metadata": {},
   "source": [
    "## Давайте отобразим наши данные на графике, чтобы понять, с чем имеем дело"
   ]
  },
  {
   "cell_type": "code",
   "execution_count": 5,
   "metadata": {},
   "outputs": [
    {
     "data": {
      "image/png": "[encoded data removed]",
      "text/plain": [
       "<Figure size 432x288 with 1 Axes>"
      ]
     },
     "metadata": {
      "image/png": {
       "height": 277,
       "width": 390
      },
      "needs_background": "light"
     },
     "output_type": "display_data"
    }
   ],
   "source": [
    "df.plot(x='x', y='y', style='o')  \n",
    "plt.title('Зависимость продаж от месяца')  \n",
    "plt.xlabel('месяц по счету')  \n",
    "plt.ylabel('продажи')  \n",
    "plt.show()  "
   ]
  },
  {
   "cell_type": "markdown",
   "metadata": {},
   "source": [
    "## \"Обзовем\" данные, согласно традициям ML, так же разобьем их на тестовые и тренировочные"
   ]
  },
  {
   "cell_type": "code",
   "execution_count": 6,
   "metadata": {},
   "outputs": [],
   "source": [
    "x = np.array(x).reshape(-1, 1)\n",
    "y = np.array(y).reshape(-1, 1)\n",
    "X_train, X_test, y_train, y_test = train_test_split(x, y, random_state=0)"
   ]
  },
  {
   "cell_type": "markdown",
   "metadata": {},
   "source": [
    "## Давайте посмотрим на то, как выглядят разбитые данные"
   ]
  },
  {
   "cell_type": "markdown",
   "metadata": {},
   "source": [
    "## Так выглядит тренировочная выборка"
   ]
  },
  {
   "cell_type": "code",
   "execution_count": 7,
   "metadata": {},
   "outputs": [
    {
     "data": {
      "image/png": "[encoded data removed]",
      "text/plain": [
       "<Figure size 432x288 with 1 Axes>"
      ]
     },
     "metadata": {
      "image/png": {
       "height": 250,
       "width": 377
      },
      "needs_background": "light"
     },
     "output_type": "display_data"
    }
   ],
   "source": [
    "plt.scatter(X_train, y_train)\n",
    "plt.show()"
   ]
  },
  {
   "cell_type": "markdown",
   "metadata": {},
   "source": [
    "## А так - тестовая"
   ]
  },
  {
   "cell_type": "code",
   "execution_count": 8,
   "metadata": {},
   "outputs": [
    {
     "data": {
      "image/png": "[encoded data removed]",
      "text/plain": [
       "<Figure size 432x288 with 1 Axes>"
      ]
     },
     "metadata": {
      "image/png": {
       "height": 250,
       "width": 377
      },
      "needs_background": "light"
     },
     "output_type": "display_data"
    }
   ],
   "source": [
    "plt.scatter(X_test, y_test)\n",
    "plt.show()"
   ]
  },
  {
   "cell_type": "markdown",
   "metadata": {},
   "source": [
    "## Первой попробуем линейную регрессию"
   ]
  },
  {
   "cell_type": "code",
   "execution_count": 9,
   "metadata": {},
   "outputs": [
    {
     "data": {
      "text/html": [
       "<div>\n",
       "<style scoped>\n",
       "    .dataframe tbody tr th:only-of-type {\n",
       "        vertical-align: middle;\n",
       "    }\n",
       "\n",
       "    .dataframe tbody tr th {\n",
       "        vertical-align: top;\n",
       "    }\n",
       "\n",
       "    .dataframe thead th {\n",
       "        text-align: right;\n",
       "    }\n",
       "</style>\n",
       "<table border=\"1\" class=\"dataframe\">\n",
       "  <thead>\n",
       "    <tr style=\"text-align: right;\">\n",
       "      <th></th>\n",
       "      <th>Actual</th>\n",
       "      <th>Predicted</th>\n",
       "    </tr>\n",
       "  </thead>\n",
       "  <tbody>\n",
       "    <tr>\n",
       "      <th>0</th>\n",
       "      <td>26</td>\n",
       "      <td>35.928571</td>\n",
       "    </tr>\n",
       "    <tr>\n",
       "      <th>1</th>\n",
       "      <td>101</td>\n",
       "      <td>93.785714</td>\n",
       "    </tr>\n",
       "    <tr>\n",
       "      <th>2</th>\n",
       "      <td>10</td>\n",
       "      <td>12.785714</td>\n",
       "    </tr>\n",
       "  </tbody>\n",
       "</table>\n",
       "</div>"
      ],
      "text/plain": [
       "   Actual  Predicted\n",
       "0      26  35.928571\n",
       "1     101  93.785714\n",
       "2      10  12.785714"
      ]
     },
     "execution_count": 9,
     "metadata": {},
     "output_type": "execute_result"
    }
   ],
   "source": [
    "from sklearn.linear_model import LinearRegression# импортируем линейную регрессию\n",
    "\n",
    "linReg = LinearRegression() # в переменную записываем нашу регерссию \n",
    "linReg.fit(X_train, y_train) # обучаем\n",
    "linReg_y_pred = linReg.predict(X_test) #записываем предсказания\n",
    "\n",
    "linReg_df_pred = pd.DataFrame({'Actual': np.reshape(y_test,len(y_test)), 'Predicted': np.reshape(linReg_y_pred,len(linReg_y_pred))})\n",
    "linReg_df_pred"
   ]
  },
  {
   "cell_type": "code",
   "execution_count": 10,
   "metadata": {},
   "outputs": [
    {
     "name": "stdout",
     "output_type": "stream",
     "text": [
      "Mean Absolute Error: 6.642857142857139\n",
      "Mean Squared Error: 52.79421768707476\n",
      "Root Mean Squared Error: 7.265962956626931\n"
     ]
    }
   ],
   "source": [
    "linReg_MAE = metrics.mean_absolute_error(y_test, linReg_y_pred)\n",
    "linReg_MSE = metrics.mean_squared_error(y_test, linReg_y_pred)\n",
    "linReg_RMSE = np.sqrt(metrics.mean_squared_error(y_test, linReg_y_pred))\n",
    "print('Mean Absolute Error:', linReg_MAE)  \n",
    "print('Mean Squared Error:', linReg_MSE)  \n",
    "print('Root Mean Squared Error:',linReg_RMSE ) "
   ]
  },
  {
   "cell_type": "markdown",
   "metadata": {},
   "source": [
    "## Попробуем другой алгоритм регрессии - KNeighborsRegressor(Регрессия К ближайших соседей)"
   ]
  },
  {
   "cell_type": "code",
   "execution_count": 11,
   "metadata": {},
   "outputs": [
    {
     "data": {
      "text/html": [
       "<div>\n",
       "<style scoped>\n",
       "    .dataframe tbody tr th:only-of-type {\n",
       "        vertical-align: middle;\n",
       "    }\n",
       "\n",
       "    .dataframe tbody tr th {\n",
       "        vertical-align: top;\n",
       "    }\n",
       "\n",
       "    .dataframe thead th {\n",
       "        text-align: right;\n",
       "    }\n",
       "</style>\n",
       "<table border=\"1\" class=\"dataframe\">\n",
       "  <thead>\n",
       "    <tr style=\"text-align: right;\">\n",
       "      <th></th>\n",
       "      <th>Actual</th>\n",
       "      <th>Predicted</th>\n",
       "    </tr>\n",
       "  </thead>\n",
       "  <tbody>\n",
       "    <tr>\n",
       "      <th>0</th>\n",
       "      <td>26</td>\n",
       "      <td>34.8</td>\n",
       "    </tr>\n",
       "    <tr>\n",
       "      <th>1</th>\n",
       "      <td>101</td>\n",
       "      <td>71.2</td>\n",
       "    </tr>\n",
       "    <tr>\n",
       "      <th>2</th>\n",
       "      <td>10</td>\n",
       "      <td>22.2</td>\n",
       "    </tr>\n",
       "  </tbody>\n",
       "</table>\n",
       "</div>"
      ],
      "text/plain": [
       "   Actual  Predicted\n",
       "0      26       34.8\n",
       "1     101       71.2\n",
       "2      10       22.2"
      ]
     },
     "execution_count": 11,
     "metadata": {},
     "output_type": "execute_result"
    }
   ],
   "source": [
    "from sklearn.neighbors import KNeighborsRegressor \n",
    "\n",
    "KNReg = KNeighborsRegressor()\n",
    "KNReg.fit(X_train, y_train) \n",
    "\n",
    "KNReg_y_pred = KNReg.predict(X_test)\n",
    "\n",
    "KNReg_df_pred = pd.DataFrame({'Actual': np.reshape(y_test,len(y_test)), 'Predicted': np.reshape(KNReg_y_pred,len(KNReg_y_pred))})\n",
    "KNReg_df_pred"
   ]
  },
  {
   "cell_type": "code",
   "execution_count": 12,
   "metadata": {},
   "outputs": [
    {
     "name": "stdout",
     "output_type": "stream",
     "text": [
      "Mean Absolute Error: 16.933333333333334\n",
      "Mean Squared Error: 371.4399999999999\n",
      "Root Mean Squared Error: 19.27277873063456\n"
     ]
    }
   ],
   "source": [
    "KNReg_MAE = metrics.mean_absolute_error(y_test, KNReg_y_pred)\n",
    "KNReg_MSE = metrics.mean_squared_error(y_test, KNReg_y_pred)\n",
    "KNReg_RMSE = np.sqrt(metrics.mean_squared_error(y_test, KNReg_y_pred))\n",
    "print('Mean Absolute Error:', KNReg_MAE)  \n",
    "print('Mean Squared Error:', KNReg_MSE)  \n",
    "print('Root Mean Squared Error:', KNReg_RMSE) "
   ]
  },
  {
   "cell_type": "markdown",
   "metadata": {},
   "source": [
    "## При стандартном значении кол-ва соседей резултат совсем не радостный. Попробуем n_neighbors=2"
   ]
  },
  {
   "cell_type": "code",
   "execution_count": 13,
   "metadata": {},
   "outputs": [
    {
     "data": {
      "text/html": [
       "<div>\n",
       "<style scoped>\n",
       "    .dataframe tbody tr th:only-of-type {\n",
       "        vertical-align: middle;\n",
       "    }\n",
       "\n",
       "    .dataframe tbody tr th {\n",
       "        vertical-align: top;\n",
       "    }\n",
       "\n",
       "    .dataframe thead th {\n",
       "        text-align: right;\n",
       "    }\n",
       "</style>\n",
       "<table border=\"1\" class=\"dataframe\">\n",
       "  <thead>\n",
       "    <tr style=\"text-align: right;\">\n",
       "      <th></th>\n",
       "      <th>Actual</th>\n",
       "      <th>Predicted</th>\n",
       "    </tr>\n",
       "  </thead>\n",
       "  <tbody>\n",
       "    <tr>\n",
       "      <th>0</th>\n",
       "      <td>26</td>\n",
       "      <td>27.0</td>\n",
       "    </tr>\n",
       "    <tr>\n",
       "      <th>1</th>\n",
       "      <td>101</td>\n",
       "      <td>102.0</td>\n",
       "    </tr>\n",
       "    <tr>\n",
       "      <th>2</th>\n",
       "      <td>10</td>\n",
       "      <td>11.0</td>\n",
       "    </tr>\n",
       "  </tbody>\n",
       "</table>\n",
       "</div>"
      ],
      "text/plain": [
       "   Actual  Predicted\n",
       "0      26       27.0\n",
       "1     101      102.0\n",
       "2      10       11.0"
      ]
     },
     "execution_count": 13,
     "metadata": {},
     "output_type": "execute_result"
    }
   ],
   "source": [
    "from sklearn.neighbors import KNeighborsRegressor \n",
    "\n",
    "KNReg = KNeighborsRegressor(n_neighbors=2)\n",
    "KNReg.fit(X_train, y_train) \n",
    "\n",
    "KNReg_y_pred = KNReg.predict(X_test)\n",
    "\n",
    "KNReg_df_pred = pd.DataFrame({'Actual': np.reshape(y_test,len(y_test)), 'Predicted': np.reshape(KNReg_y_pred,len(KNReg_y_pred))})\n",
    "KNReg_df_pred"
   ]
  },
  {
   "cell_type": "code",
   "execution_count": 14,
   "metadata": {},
   "outputs": [
    {
     "name": "stdout",
     "output_type": "stream",
     "text": [
      "Mean Absolute Error: 1.0\n",
      "Mean Squared Error: 1.0\n",
      "Root Mean Squared Error: 1.0\n"
     ]
    }
   ],
   "source": [
    "KNReg_MAE = metrics.mean_absolute_error(y_test, KNReg_y_pred)\n",
    "KNReg_MSE = metrics.mean_squared_error(y_test, KNReg_y_pred)\n",
    "KNReg_RMSE = np.sqrt(metrics.mean_squared_error(y_test, KNReg_y_pred))\n",
    "print('Mean Absolute Error:', KNReg_MAE)  \n",
    "print('Mean Squared Error:', KNReg_MSE)  \n",
    "print('Root Mean Squared Error:', KNReg_RMSE) "
   ]
  },
  {
   "cell_type": "markdown",
   "metadata": {},
   "source": [
    "## результат уже очень хорош"
   ]
  },
  {
   "cell_type": "markdown",
   "metadata": {},
   "source": [
    "Смысла пробовать *Ridge* или *Lasso* нет, так как данные описаны параболой и мы уже убедились в неэффективности линейных регрессий. Эти же будут даже менее эффективны, так как гребневая прибегнет у уменьшению коэф-ов, а лассо и вовсе не будет иметь смысла, так как признак только один и избавляться не от чего"
   ]
  },
  {
   "cell_type": "markdown",
   "metadata": {},
   "source": [
    "*Деревья*, *случайный лес* или *бустинг деревьев* так же не дадут результата, так как данные описываются не условиями, а зависимостью"
   ]
  },
  {
   "cell_type": "markdown",
   "metadata": {},
   "source": [
    "## Однако, мы забыли про полиномиальную зависимость - по определению лучшую для нашей ситуации"
   ]
  },
  {
   "cell_type": "code",
   "execution_count": 15,
   "metadata": {},
   "outputs": [
    {
     "data": {
      "text/html": [
       "<div>\n",
       "<style scoped>\n",
       "    .dataframe tbody tr th:only-of-type {\n",
       "        vertical-align: middle;\n",
       "    }\n",
       "\n",
       "    .dataframe tbody tr th {\n",
       "        vertical-align: top;\n",
       "    }\n",
       "\n",
       "    .dataframe thead th {\n",
       "        text-align: right;\n",
       "    }\n",
       "</style>\n",
       "<table border=\"1\" class=\"dataframe\">\n",
       "  <thead>\n",
       "    <tr style=\"text-align: right;\">\n",
       "      <th></th>\n",
       "      <th>Actual</th>\n",
       "      <th>Predicted</th>\n",
       "    </tr>\n",
       "  </thead>\n",
       "  <tbody>\n",
       "    <tr>\n",
       "      <th>0</th>\n",
       "      <td>26</td>\n",
       "      <td>26.032896</td>\n",
       "    </tr>\n",
       "    <tr>\n",
       "      <th>1</th>\n",
       "      <td>101</td>\n",
       "      <td>100.982400</td>\n",
       "    </tr>\n",
       "    <tr>\n",
       "      <th>2</th>\n",
       "      <td>10</td>\n",
       "      <td>10.053658</td>\n",
       "    </tr>\n",
       "  </tbody>\n",
       "</table>\n",
       "</div>"
      ],
      "text/plain": [
       "   Actual   Predicted\n",
       "0      26   26.032896\n",
       "1     101  100.982400\n",
       "2      10   10.053658"
      ]
     },
     "execution_count": 15,
     "metadata": {},
     "output_type": "execute_result"
    }
   ],
   "source": [
    "from sklearn.linear_model import Ridge\n",
    "from sklearn.preprocessing import PolynomialFeatures\n",
    "from sklearn.pipeline import make_pipeline\n",
    "from sklearn.linear_model import Lasso \n",
    "\n",
    "polynomReg = make_pipeline(PolynomialFeatures(3), Ridge())\n",
    "polynomReg.fit(X_train, y_train)\n",
    "\n",
    "polynomReg_y_pred = polynomReg.predict(X_test)\n",
    "\n",
    "polynomReg_df_pred = pd.DataFrame({'Actual': np.reshape(y_test,len(y_test)), \n",
    "                                   'Predicted': np.reshape(polynomReg_y_pred,len(polynomReg_y_pred))})\n",
    "polynomReg_df_pred"
   ]
  },
  {
   "cell_type": "code",
   "execution_count": 16,
   "metadata": {},
   "outputs": [
    {
     "name": "stdout",
     "output_type": "stream",
     "text": [
      "Mean Absolute Error: 0.0347181074918641\n",
      "Mean Squared Error: 0.0014236914297022201\n",
      "Root Mean Squared Error: 0.037731835758444354\n"
     ]
    }
   ],
   "source": [
    "polynomReg_MAE = metrics.mean_absolute_error(y_test, polynomReg_y_pred)\n",
    "polynomReg_MSE = metrics.mean_squared_error(y_test, polynomReg_y_pred)\n",
    "polynomReg_RMSE = np.sqrt(metrics.mean_squared_error(y_test, polynomReg_y_pred))\n",
    "print('Mean Absolute Error:', polynomReg_MAE)  \n",
    "print('Mean Squared Error:', polynomReg_MSE)  \n",
    "print('Root Mean Squared Error:', polynomReg_RMSE) "
   ]
  },
  {
   "cell_type": "markdown",
   "metadata": {},
   "source": [
    "# А теперь более наглядно\n",
    "    есть метод .score\n",
    "    давайте посмотрим правильность разных моделей в процентах"
   ]
  },
  {
   "cell_type": "code",
   "execution_count": 17,
   "metadata": {},
   "outputs": [
    {
     "name": "stdout",
     "output_type": "stream",
     "text": [
      "Правильность KNreg на обучающем наборе: 0.944\n",
      "Правильность KNreg на тестовом наборе: 0.999\n"
     ]
    }
   ],
   "source": [
    "print(\"Правильность KNreg на обучающем наборе: {:.3f}\".format(KNReg.score(X_train, y_train))) \n",
    "print(\"Правильность KNreg на тестовом наборе: {:.3f}\".format(KNReg.score(X_test, y_test))) "
   ]
  },
  {
   "cell_type": "code",
   "execution_count": 18,
   "metadata": {},
   "outputs": [
    {
     "name": "stdout",
     "output_type": "stream",
     "text": [
      "Правильность linReg на обучающем наборе: 0.940\n",
      "Правильность linReg на тестовом наборе: 0.966\n"
     ]
    }
   ],
   "source": [
    "print(\"Правильность linReg на обучающем наборе: {:.3f}\".format(linReg.score(X_train, y_train))) \n",
    "print(\"Правильность linReg на тестовом наборе: {:.3f}\".format(linReg.score(X_test, y_test))) "
   ]
  },
  {
   "cell_type": "code",
   "execution_count": 19,
   "metadata": {},
   "outputs": [
    {
     "name": "stdout",
     "output_type": "stream",
     "text": [
      "Правильность polynomReg на обучающем наборе: 1.000\n",
      "Правильность polynomReg на тестовом наборе: 1.000\n"
     ]
    }
   ],
   "source": [
    "print(\"Правильность polynomReg на обучающем наборе: {:.3f}\".format(polynomReg.score(X_train, y_train))) \n",
    "print(\"Правильность polynomReg на тестовом наборе: {:.3f}\".format(polynomReg.score(X_test, y_test))) "
   ]
  },
  {
   "cell_type": "code",
   "execution_count": 20,
   "metadata": {},
   "outputs": [
    {
     "data": {
      "image/png": "[encoded data removed]",
      "text/plain": [
       "<Figure size 432x288 with 1 Axes>"
      ]
     },
     "metadata": {
      "image/png": {
       "height": 250,
       "width": 377
      },
      "needs_background": "light"
     },
     "output_type": "display_data"
    }
   ],
   "source": [
    "def f(x):\n",
    "    return x**2+1\n",
    "\n",
    "x_plot = np.linspace(1, 20)\n",
    "X_plot = x_plot[:, np.newaxis]\n",
    "lw = 2\n",
    "\n",
    "colors = ['teal', 'yellowgreen', 'gold']\n",
    "\n",
    "plt.scatter(x,y,marker='X', color='green',label=\"тренировочные данные\")\n",
    "\n",
    "plt.plot(x_plot, f(x_plot), color='cornflowerblue', linewidth=lw,\n",
    "         label=\"Реальные данные\")\n",
    "\n",
    "\n",
    "y_plot = KNReg.predict(X_plot)\n",
    "plt.plot(x_plot, y_plot, color=colors[0], linewidth=lw,\n",
    "             label=\"К ближайших соседей\")\n",
    "\n",
    "y_plot = linReg.predict(X_plot)\n",
    "plt.plot(x_plot, y_plot, color=colors[1], linewidth=lw,\n",
    "             label=\"Линейная регрессия\")\n",
    "\n",
    "y_plot = polynomReg.predict(X_plot)\n",
    "plt.plot(x_plot, y_plot,color=colors[2], linewidth=lw,\n",
    "             label=\"Полином\")\n",
    "\n",
    "plt.legend(loc='best')\n",
    "plt.show()"
   ]
  },
  {
   "cell_type": "markdown",
   "metadata": {},
   "source": [
    "Сравним с другими известными нам моделями регресси"
   ]
  },
  {
   "cell_type": "code",
   "execution_count": 73,
   "metadata": {},
   "outputs": [
    {
     "name": "stdout",
     "output_type": "stream",
     "text": [
      "Правильность tree на обучающем наборе: 1.000\n",
      "Правильность tree на тестовом наборе: 0.901\n",
      "Правильность forest на обучающем наборе: 0.966\n",
      "Правильность forest на тестовом наборе: 0.969\n",
      "Правильность gbrt на обучающем наборе: 1.000\n",
      "Правильность gbrt на тестовом наборе: 0.901\n"
     ]
    },
    {
     "name": "stderr",
     "output_type": "stream",
     "text": [
      "/Users/dinoz4vrick/miniconda3/envs/nnseries/lib/python3.6/site-packages/ipykernel_launcher.py:7: DataConversionWarning: A column-vector y was passed when a 1d array was expected. Please change the shape of y to (n_samples,), for example using ravel().\n",
      "  import sys\n",
      "/Users/dinoz4vrick/miniconda3/envs/nnseries/lib/python3.6/site-packages/sklearn/utils/validation.py:752: DataConversionWarning: A column-vector y was passed when a 1d array was expected. Please change the shape of y to (n_samples, ), for example using ravel().\n",
      "  y = column_or_1d(y, warn=True)\n"
     ]
    }
   ],
   "source": [
    "from sklearn.tree import DecisionTreeRegressor\n",
    "tree = DecisionTreeRegressor(max_depth=5, random_state=0)\n",
    "tree.fit(X_train, y_train)\n",
    "\n",
    "from sklearn.ensemble import RandomForestRegressor\n",
    "forest = RandomForestRegressor(n_estimators=5, random_state=2) \n",
    "forest.fit(X_train, y_train)\n",
    "\n",
    "from sklearn.ensemble import GradientBoostingRegressor\n",
    "gbrt = GradientBoostingRegressor(random_state=0, max_depth=10,learning_rate=0.1)\n",
    "gbrt.fit(X_train, y_train)\n",
    "\n",
    "print(\"Правильность tree на обучающем наборе: {:.3f}\".format(tree.score(X_train, y_train))) \n",
    "print(\"Правильность tree на тестовом наборе: {:.3f}\".format(tree.score(X_test, y_test))) \n",
    "print(\"Правильность forest на обучающем наборе: {:.3f}\".format(forest.score(X_train, y_train))) \n",
    "print(\"Правильность forest на тестовом наборе: {:.3f}\".format(forest.score(X_test, y_test))) \n",
    "print(\"Правильность gbrt на обучающем наборе: {:.3f}\".format(gbrt.score(X_train, y_train))) \n",
    "print(\"Правильность gbrt на тестовом наборе: {:.3f}\".format(gbrt.score(X_test, y_test))) \n",
    "\n",
    "\n",
    "tree_y_pred = tree.predict(X_test)\n",
    "forest_y_pred = forest.predict(X_test)\n",
    "gbrt_y_pred = gbrt.predict(X_test)"
   ]
  },
  {
   "cell_type": "code",
   "execution_count": 101,
   "metadata": {},
   "outputs": [
    {
     "data": {
      "image/png": "[encoded data removed]",
      "text/plain": [
       "<Figure size 432x288 with 1 Axes>"
      ]
     },
     "metadata": {
      "image/png": {
       "height": 250,
       "width": 377
      },
      "needs_background": "light"
     },
     "output_type": "display_data"
    }
   ],
   "source": [
    "def f(x):\n",
    "    return x**2+1\n",
    "\n",
    "x_plot = np.linspace(1, 15)\n",
    "X_plot = x_plot[:, np.newaxis]\n",
    "lw = 1\n",
    "\n",
    "colors = ['teal', 'yellowgreen', 'gold', 'cornflowerblue', 'purple', 'blue']\n",
    "\n",
    "plt.scatter(x,y,marker='X', color='green',label=\"тренировочные данные\")\n",
    "\n",
    "plt.plot(x_plot, f(x_plot), color='black', linewidth=lw*2,\n",
    "         label=\"Реальные данные\")\n",
    "\n",
    "\n",
    "y_plot = KNReg.predict(X_plot)\n",
    "plt.plot(x_plot, y_plot, color=colors[0], linewidth=lw,\n",
    "             label=\"К ближайших соседей\")\n",
    "\n",
    "y_plot = linReg.predict(X_plot)\n",
    "plt.plot(x_plot, y_plot, color=colors[1], linewidth=lw,\n",
    "             label=\"Линейная регрессия\")\n",
    "\n",
    "y_plot = polynomReg.predict(X_plot)\n",
    "plt.plot(x_plot, y_plot,color=colors[2], linewidth=lw,\n",
    "             label=\"Полином\")\n",
    "\n",
    "y_plot = tree.predict(X_plot)\n",
    "plt.plot(x_plot, y_plot,color=colors[3], linewidth=lw,\n",
    "             label=\"дерево\")\n",
    "\n",
    "y_plot = forest.predict(X_plot)\n",
    "plt.plot(x_plot, y_plot,color=colors[4], linewidth=lw,\n",
    "             label=\"лес\")\n",
    "\n",
    "y_plot = gbrt.predict(X_plot)\n",
    "plt.plot(x_plot, y_plot,color=colors[5], linewidth=lw,\n",
    "             label=\"бустинг деревьев\")\n",
    "\n",
    "plt.legend(loc='best')\n",
    "plt.show()"
   ]
  },
  {
   "cell_type": "markdown",
   "metadata": {},
   "source": [
    "## Посмотрим, как выглядят деревья"
   ]
  },
  {
   "cell_type": "code",
   "execution_count": 94,
   "metadata": {},
   "outputs": [],
   "source": [
    "from sklearn.tree import export_graphviz\n",
    "export_graphviz(tree, out_file=\"graphviz/tree.dot\", impurity=False, filled=True)"
   ]
  },
  {
   "cell_type": "code",
   "execution_count": 95,
   "metadata": {},
   "outputs": [
    {
     "data": {
      "image/svg+xml": [
       "<?xml version=\"1.0\" encoding=\"UTF-8\" standalone=\"no\"?>\n",
       "<!DOCTYPE svg PUBLIC \"-//W3C//DTD SVG 1.1//EN\"\n",
       " \"http://www.w3.org/Graphics/SVG/1.1/DTD/svg11.dtd\">\n",
       "<!-- Generated by graphviz version 2.40.1 (20161225.0304)\n",
       " -->\n",
       "<!-- Title: Tree Pages: 1 -->\n",
       "<svg width=\"667pt\" height=\"388pt\"\n",
       " viewBox=\"0.00 0.00 666.86 388.00\" xmlns=\"http://www.w3.org/2000/svg\" xmlns:xlink=\"http://www.w3.org/1999/xlink\">\n",
       "<g id=\"graph0\" class=\"graph\" transform=\"scale(1 1) rotate(0) translate(4 384)\">\n",
       "<title>Tree</title>\n",
       "<polygon fill=\"#ffffff\" stroke=\"transparent\" points=\"-4,4 -4,-384 662.856,-384 662.856,4 -4,4\"/>\n",
       "<!-- 0 -->\n",
       "<g id=\"node1\" class=\"node\">\n",
       "<title>0</title>\n",
       "<polygon fill=\"#e58139\" fill-opacity=\"0.380392\" stroke=\"#000000\" points=\"492.2129,-380 406.7861,-380 406.7861,-330 492.2129,-330 492.2129,-380\"/>\n",
       "<text text-anchor=\"middle\" x=\"449.4995\" y=\"-364.8\" font-family=\"Times,serif\" font-size=\"14.00\" fill=\"#000000\">X[0] &lt;= 7.5</text>\n",
       "<text text-anchor=\"middle\" x=\"449.4995\" y=\"-350.8\" font-family=\"Times,serif\" font-size=\"14.00\" fill=\"#000000\">samples = 8</text>\n",
       "<text text-anchor=\"middle\" x=\"449.4995\" y=\"-336.8\" font-family=\"Times,serif\" font-size=\"14.00\" fill=\"#000000\">value = 47.5</text>\n",
       "</g>\n",
       "<!-- 1 -->\n",
       "<g id=\"node2\" class=\"node\">\n",
       "<title>1</title>\n",
       "<polygon fill=\"#e58139\" fill-opacity=\"0.168627\" stroke=\"#000000\" points=\"388.2129,-294 302.7861,-294 302.7861,-244 388.2129,-244 388.2129,-294\"/>\n",
       "<text text-anchor=\"middle\" x=\"345.4995\" y=\"-278.8\" font-family=\"Times,serif\" font-size=\"14.00\" fill=\"#000000\">X[0] &lt;= 5.0</text>\n",
       "<text text-anchor=\"middle\" x=\"345.4995\" y=\"-264.8\" font-family=\"Times,serif\" font-size=\"14.00\" fill=\"#000000\">samples = 5</text>\n",
       "<text text-anchor=\"middle\" x=\"345.4995\" y=\"-250.8\" font-family=\"Times,serif\" font-size=\"14.00\" fill=\"#000000\">value = 22.2</text>\n",
       "</g>\n",
       "<!-- 0&#45;&gt;1 -->\n",
       "<g id=\"edge1\" class=\"edge\">\n",
       "<title>0&#45;&gt;1</title>\n",
       "<path fill=\"none\" stroke=\"#000000\" d=\"M419.1388,-329.8941C408.1296,-320.7902 395.5453,-310.384 383.9317,-300.7805\"/>\n",
       "<polygon fill=\"#000000\" stroke=\"#000000\" points=\"386.0149,-297.9615 376.078,-294.286 381.554,-303.356 386.0149,-297.9615\"/>\n",
       "<text text-anchor=\"middle\" x=\"378.4358\" y=\"-314.9746\" font-family=\"Times,serif\" font-size=\"14.00\" fill=\"#000000\">True</text>\n",
       "</g>\n",
       "<!-- 10 -->\n",
       "<g id=\"node11\" class=\"node\">\n",
       "<title>10</title>\n",
       "<polygon fill=\"#e58139\" fill-opacity=\"0.729412\" stroke=\"#000000\" points=\"555.2128,-294 455.7862,-294 455.7862,-244 555.2128,-244 555.2128,-294\"/>\n",
       "<text text-anchor=\"middle\" x=\"505.4995\" y=\"-278.8\" font-family=\"Times,serif\" font-size=\"14.00\" fill=\"#000000\">X[0] &lt;= 10.0</text>\n",
       "<text text-anchor=\"middle\" x=\"505.4995\" y=\"-264.8\" font-family=\"Times,serif\" font-size=\"14.00\" fill=\"#000000\">samples = 3</text>\n",
       "<text text-anchor=\"middle\" x=\"505.4995\" y=\"-250.8\" font-family=\"Times,serif\" font-size=\"14.00\" fill=\"#000000\">value = 89.667</text>\n",
       "</g>\n",
       "<!-- 0&#45;&gt;10 -->\n",
       "<g id=\"edge10\" class=\"edge\">\n",
       "<title>0&#45;&gt;10</title>\n",
       "<path fill=\"none\" stroke=\"#000000\" d=\"M465.9985,-329.6623C471.524,-321.1767 477.7728,-311.5803 483.6427,-302.5658\"/>\n",
       "<polygon fill=\"#000000\" stroke=\"#000000\" points=\"486.5947,-304.4465 489.1185,-294.1566 480.7287,-300.6267 486.5947,-304.4465\"/>\n",
       "<text text-anchor=\"middle\" x=\"494.2861\" y=\"-314.4167\" font-family=\"Times,serif\" font-size=\"14.00\" fill=\"#000000\">False</text>\n",
       "</g>\n",
       "<!-- 2 -->\n",
       "<g id=\"node3\" class=\"node\">\n",
       "<title>2</title>\n",
       "<polygon fill=\"#e58139\" fill-opacity=\"0.050980\" stroke=\"#000000\" points=\"234.9985,-208 152.0005,-208 152.0005,-158 234.9985,-158 234.9985,-208\"/>\n",
       "<text text-anchor=\"middle\" x=\"193.4995\" y=\"-192.8\" font-family=\"Times,serif\" font-size=\"14.00\" fill=\"#000000\">X[0] &lt;= 3.0</text>\n",
       "<text text-anchor=\"middle\" x=\"193.4995\" y=\"-178.8\" font-family=\"Times,serif\" font-size=\"14.00\" fill=\"#000000\">samples = 3</text>\n",
       "<text text-anchor=\"middle\" x=\"193.4995\" y=\"-164.8\" font-family=\"Times,serif\" font-size=\"14.00\" fill=\"#000000\">value = 8.0</text>\n",
       "</g>\n",
       "<!-- 1&#45;&gt;2 -->\n",
       "<g id=\"edge2\" class=\"edge\">\n",
       "<title>1&#45;&gt;2</title>\n",
       "<path fill=\"none\" stroke=\"#000000\" d=\"M302.7545,-244.8153C284.486,-234.4792 263.0241,-222.3363 243.9806,-211.5617\"/>\n",
       "<polygon fill=\"#000000\" stroke=\"#000000\" points=\"245.5641,-208.4362 235.137,-206.5581 242.117,-214.5287 245.5641,-208.4362\"/>\n",
       "</g>\n",
       "<!-- 7 -->\n",
       "<g id=\"node8\" class=\"node\">\n",
       "<title>7</title>\n",
       "<polygon fill=\"#e58139\" fill-opacity=\"0.345098\" stroke=\"#000000\" points=\"388.2129,-208 302.7861,-208 302.7861,-158 388.2129,-158 388.2129,-208\"/>\n",
       "<text text-anchor=\"middle\" x=\"345.4995\" y=\"-192.8\" font-family=\"Times,serif\" font-size=\"14.00\" fill=\"#000000\">X[0] &lt;= 6.5</text>\n",
       "<text text-anchor=\"middle\" x=\"345.4995\" y=\"-178.8\" font-family=\"Times,serif\" font-size=\"14.00\" fill=\"#000000\">samples = 2</text>\n",
       "<text text-anchor=\"middle\" x=\"345.4995\" y=\"-164.8\" font-family=\"Times,serif\" font-size=\"14.00\" fill=\"#000000\">value = 43.5</text>\n",
       "</g>\n",
       "<!-- 1&#45;&gt;7 -->\n",
       "<g id=\"edge7\" class=\"edge\">\n",
       "<title>1&#45;&gt;7</title>\n",
       "<path fill=\"none\" stroke=\"#000000\" d=\"M345.4995,-243.6623C345.4995,-235.7016 345.4995,-226.7633 345.4995,-218.2449\"/>\n",
       "<polygon fill=\"#000000\" stroke=\"#000000\" points=\"348.9996,-218.1566 345.4995,-208.1566 341.9996,-218.1566 348.9996,-218.1566\"/>\n",
       "</g>\n",
       "<!-- 3 -->\n",
       "<g id=\"node4\" class=\"node\">\n",
       "<title>3</title>\n",
       "<polygon fill=\"#e58139\" fill-opacity=\"0.011765\" stroke=\"#000000\" points=\"132.9985,-122 50.0005,-122 50.0005,-72 132.9985,-72 132.9985,-122\"/>\n",
       "<text text-anchor=\"middle\" x=\"91.4995\" y=\"-106.8\" font-family=\"Times,serif\" font-size=\"14.00\" fill=\"#000000\">X[0] &lt;= 1.5</text>\n",
       "<text text-anchor=\"middle\" x=\"91.4995\" y=\"-92.8\" font-family=\"Times,serif\" font-size=\"14.00\" fill=\"#000000\">samples = 2</text>\n",
       "<text text-anchor=\"middle\" x=\"91.4995\" y=\"-78.8\" font-family=\"Times,serif\" font-size=\"14.00\" fill=\"#000000\">value = 3.5</text>\n",
       "</g>\n",
       "<!-- 2&#45;&gt;3 -->\n",
       "<g id=\"edge3\" class=\"edge\">\n",
       "<title>2&#45;&gt;3</title>\n",
       "<path fill=\"none\" stroke=\"#000000\" d=\"M163.7227,-157.8941C152.9251,-148.7902 140.5828,-138.384 129.1927,-128.7805\"/>\n",
       "<polygon fill=\"#000000\" stroke=\"#000000\" points=\"131.3913,-126.0562 121.4899,-122.286 126.8791,-131.4079 131.3913,-126.0562\"/>\n",
       "</g>\n",
       "<!-- 6 -->\n",
       "<g id=\"node7\" class=\"node\">\n",
       "<title>6</title>\n",
       "<polygon fill=\"#e58139\" fill-opacity=\"0.125490\" stroke=\"#000000\" points=\"236.2129,-115 150.7861,-115 150.7861,-79 236.2129,-79 236.2129,-115\"/>\n",
       "<text text-anchor=\"middle\" x=\"193.4995\" y=\"-99.8\" font-family=\"Times,serif\" font-size=\"14.00\" fill=\"#000000\">samples = 1</text>\n",
       "<text text-anchor=\"middle\" x=\"193.4995\" y=\"-85.8\" font-family=\"Times,serif\" font-size=\"14.00\" fill=\"#000000\">value = 17.0</text>\n",
       "</g>\n",
       "<!-- 2&#45;&gt;6 -->\n",
       "<g id=\"edge6\" class=\"edge\">\n",
       "<title>2&#45;&gt;6</title>\n",
       "<path fill=\"none\" stroke=\"#000000\" d=\"M193.4995,-157.6623C193.4995,-147.513 193.4995,-135.7747 193.4995,-125.3436\"/>\n",
       "<polygon fill=\"#000000\" stroke=\"#000000\" points=\"196.9996,-125.0677 193.4995,-115.0677 189.9996,-125.0678 196.9996,-125.0677\"/>\n",
       "</g>\n",
       "<!-- 4 -->\n",
       "<g id=\"node5\" class=\"node\">\n",
       "<title>4</title>\n",
       "<polygon fill=\"transparent\" stroke=\"#000000\" points=\"82.9985,-36 .0005,-36 .0005,0 82.9985,0 82.9985,-36\"/>\n",
       "<text text-anchor=\"middle\" x=\"41.4995\" y=\"-20.8\" font-family=\"Times,serif\" font-size=\"14.00\" fill=\"#000000\">samples = 1</text>\n",
       "<text text-anchor=\"middle\" x=\"41.4995\" y=\"-6.8\" font-family=\"Times,serif\" font-size=\"14.00\" fill=\"#000000\">value = 2.0</text>\n",
       "</g>\n",
       "<!-- 3&#45;&gt;4 -->\n",
       "<g id=\"edge4\" class=\"edge\">\n",
       "<title>3&#45;&gt;4</title>\n",
       "<path fill=\"none\" stroke=\"#000000\" d=\"M75.404,-71.5691C69.9798,-62.9989 63.9124,-53.4124 58.4261,-44.7441\"/>\n",
       "<polygon fill=\"#000000\" stroke=\"#000000\" points=\"61.276,-42.7022 52.9705,-36.1242 55.3611,-46.4458 61.276,-42.7022\"/>\n",
       "</g>\n",
       "<!-- 5 -->\n",
       "<g id=\"node6\" class=\"node\">\n",
       "<title>5</title>\n",
       "<polygon fill=\"#e58139\" fill-opacity=\"0.023529\" stroke=\"#000000\" points=\"183.9985,-36 101.0005,-36 101.0005,0 183.9985,0 183.9985,-36\"/>\n",
       "<text text-anchor=\"middle\" x=\"142.4995\" y=\"-20.8\" font-family=\"Times,serif\" font-size=\"14.00\" fill=\"#000000\">samples = 1</text>\n",
       "<text text-anchor=\"middle\" x=\"142.4995\" y=\"-6.8\" font-family=\"Times,serif\" font-size=\"14.00\" fill=\"#000000\">value = 5.0</text>\n",
       "</g>\n",
       "<!-- 3&#45;&gt;5 -->\n",
       "<g id=\"edge5\" class=\"edge\">\n",
       "<title>3&#45;&gt;5</title>\n",
       "<path fill=\"none\" stroke=\"#000000\" d=\"M107.917,-71.5691C113.4496,-62.9989 119.6383,-53.4124 125.2343,-44.7441\"/>\n",
       "<polygon fill=\"#000000\" stroke=\"#000000\" points=\"128.3158,-46.4239 130.7991,-36.1242 122.4348,-42.6273 128.3158,-46.4239\"/>\n",
       "</g>\n",
       "<!-- 8 -->\n",
       "<g id=\"node9\" class=\"node\">\n",
       "<title>8</title>\n",
       "<polygon fill=\"#e58139\" fill-opacity=\"0.290196\" stroke=\"#000000\" points=\"340.2129,-115 254.7861,-115 254.7861,-79 340.2129,-79 340.2129,-115\"/>\n",
       "<text text-anchor=\"middle\" x=\"297.4995\" y=\"-99.8\" font-family=\"Times,serif\" font-size=\"14.00\" fill=\"#000000\">samples = 1</text>\n",
       "<text text-anchor=\"middle\" x=\"297.4995\" y=\"-85.8\" font-family=\"Times,serif\" font-size=\"14.00\" fill=\"#000000\">value = 37.0</text>\n",
       "</g>\n",
       "<!-- 7&#45;&gt;8 -->\n",
       "<g id=\"edge8\" class=\"edge\">\n",
       "<title>7&#45;&gt;8</title>\n",
       "<path fill=\"none\" stroke=\"#000000\" d=\"M331.3575,-157.6623C325.4543,-147.0857 318.5879,-134.7834 312.5878,-124.0331\"/>\n",
       "<polygon fill=\"#000000\" stroke=\"#000000\" points=\"315.5137,-122.0939 307.5838,-115.0677 309.4013,-125.5055 315.5137,-122.0939\"/>\n",
       "</g>\n",
       "<!-- 9 -->\n",
       "<g id=\"node10\" class=\"node\">\n",
       "<title>9</title>\n",
       "<polygon fill=\"#e58139\" fill-opacity=\"0.400000\" stroke=\"#000000\" points=\"444.2129,-115 358.7861,-115 358.7861,-79 444.2129,-79 444.2129,-115\"/>\n",
       "<text text-anchor=\"middle\" x=\"401.4995\" y=\"-99.8\" font-family=\"Times,serif\" font-size=\"14.00\" fill=\"#000000\">samples = 1</text>\n",
       "<text text-anchor=\"middle\" x=\"401.4995\" y=\"-85.8\" font-family=\"Times,serif\" font-size=\"14.00\" fill=\"#000000\">value = 50.0</text>\n",
       "</g>\n",
       "<!-- 7&#45;&gt;9 -->\n",
       "<g id=\"edge9\" class=\"edge\">\n",
       "<title>7&#45;&gt;9</title>\n",
       "<path fill=\"none\" stroke=\"#000000\" d=\"M361.9985,-157.6623C368.9552,-146.9788 377.0583,-134.5347 384.1084,-123.7078\"/>\n",
       "<polygon fill=\"#000000\" stroke=\"#000000\" points=\"387.2107,-125.3576 389.7345,-115.0677 381.3447,-121.5379 387.2107,-125.3576\"/>\n",
       "</g>\n",
       "<!-- 11 -->\n",
       "<g id=\"node12\" class=\"node\">\n",
       "<title>11</title>\n",
       "<polygon fill=\"#e58139\" fill-opacity=\"0.596078\" stroke=\"#000000\" points=\"548.2129,-208 462.7861,-208 462.7861,-158 548.2129,-158 548.2129,-208\"/>\n",
       "<text text-anchor=\"middle\" x=\"505.4995\" y=\"-192.8\" font-family=\"Times,serif\" font-size=\"14.00\" fill=\"#000000\">X[0] &lt;= 8.5</text>\n",
       "<text text-anchor=\"middle\" x=\"505.4995\" y=\"-178.8\" font-family=\"Times,serif\" font-size=\"14.00\" fill=\"#000000\">samples = 2</text>\n",
       "<text text-anchor=\"middle\" x=\"505.4995\" y=\"-164.8\" font-family=\"Times,serif\" font-size=\"14.00\" fill=\"#000000\">value = 73.5</text>\n",
       "</g>\n",
       "<!-- 10&#45;&gt;11 -->\n",
       "<g id=\"edge11\" class=\"edge\">\n",
       "<title>10&#45;&gt;11</title>\n",
       "<path fill=\"none\" stroke=\"#000000\" d=\"M505.4995,-243.6623C505.4995,-235.7016 505.4995,-226.7633 505.4995,-218.2449\"/>\n",
       "<polygon fill=\"#000000\" stroke=\"#000000\" points=\"508.9996,-218.1566 505.4995,-208.1566 501.9996,-218.1566 508.9996,-218.1566\"/>\n",
       "</g>\n",
       "<!-- 14 -->\n",
       "<g id=\"node15\" class=\"node\">\n",
       "<title>14</title>\n",
       "<polygon fill=\"#e58139\" stroke=\"#000000\" points=\"658.7128,-201 566.2862,-201 566.2862,-165 658.7128,-165 658.7128,-201\"/>\n",
       "<text text-anchor=\"middle\" x=\"612.4995\" y=\"-185.8\" font-family=\"Times,serif\" font-size=\"14.00\" fill=\"#000000\">samples = 1</text>\n",
       "<text text-anchor=\"middle\" x=\"612.4995\" y=\"-171.8\" font-family=\"Times,serif\" font-size=\"14.00\" fill=\"#000000\">value = 122.0</text>\n",
       "</g>\n",
       "<!-- 10&#45;&gt;14 -->\n",
       "<g id=\"edge14\" class=\"edge\">\n",
       "<title>10&#45;&gt;14</title>\n",
       "<path fill=\"none\" stroke=\"#000000\" d=\"M536.736,-243.8941C550.9678,-232.4554 567.7578,-218.9606 581.9106,-207.5855\"/>\n",
       "<polygon fill=\"#000000\" stroke=\"#000000\" points=\"584.2977,-210.1573 589.8995,-201.1645 579.9124,-204.7012 584.2977,-210.1573\"/>\n",
       "</g>\n",
       "<!-- 12 -->\n",
       "<g id=\"node13\" class=\"node\">\n",
       "<title>12</title>\n",
       "<polygon fill=\"#e58139\" fill-opacity=\"0.525490\" stroke=\"#000000\" points=\"548.2129,-115 462.7861,-115 462.7861,-79 548.2129,-79 548.2129,-115\"/>\n",
       "<text text-anchor=\"middle\" x=\"505.4995\" y=\"-99.8\" font-family=\"Times,serif\" font-size=\"14.00\" fill=\"#000000\">samples = 1</text>\n",
       "<text text-anchor=\"middle\" x=\"505.4995\" y=\"-85.8\" font-family=\"Times,serif\" font-size=\"14.00\" fill=\"#000000\">value = 65.0</text>\n",
       "</g>\n",
       "<!-- 11&#45;&gt;12 -->\n",
       "<g id=\"edge12\" class=\"edge\">\n",
       "<title>11&#45;&gt;12</title>\n",
       "<path fill=\"none\" stroke=\"#000000\" d=\"M505.4995,-157.6623C505.4995,-147.513 505.4995,-135.7747 505.4995,-125.3436\"/>\n",
       "<polygon fill=\"#000000\" stroke=\"#000000\" points=\"508.9996,-125.0677 505.4995,-115.0677 501.9996,-125.0678 508.9996,-125.0677\"/>\n",
       "</g>\n",
       "<!-- 13 -->\n",
       "<g id=\"node14\" class=\"node\">\n",
       "<title>13</title>\n",
       "<polygon fill=\"#e58139\" fill-opacity=\"0.666667\" stroke=\"#000000\" points=\"652.2129,-115 566.7861,-115 566.7861,-79 652.2129,-79 652.2129,-115\"/>\n",
       "<text text-anchor=\"middle\" x=\"609.4995\" y=\"-99.8\" font-family=\"Times,serif\" font-size=\"14.00\" fill=\"#000000\">samples = 1</text>\n",
       "<text text-anchor=\"middle\" x=\"609.4995\" y=\"-85.8\" font-family=\"Times,serif\" font-size=\"14.00\" fill=\"#000000\">value = 82.0</text>\n",
       "</g>\n",
       "<!-- 11&#45;&gt;13 -->\n",
       "<g id=\"edge13\" class=\"edge\">\n",
       "<title>11&#45;&gt;13</title>\n",
       "<path fill=\"none\" stroke=\"#000000\" d=\"M535.8602,-157.8941C549.693,-146.4554 566.0123,-132.9606 579.7682,-121.5855\"/>\n",
       "<polygon fill=\"#000000\" stroke=\"#000000\" points=\"582.0571,-124.2344 587.5332,-115.1645 577.5963,-118.8399 582.0571,-124.2344\"/>\n",
       "</g>\n",
       "</g>\n",
       "</svg>\n"
      ],
      "text/plain": [
       "<graphviz.files.Source at 0x1a25bc8550>"
      ]
     },
     "execution_count": 95,
     "metadata": {},
     "output_type": "execute_result"
    }
   ],
   "source": [
    "import graphviz\n",
    "with open(\"graphviz/tree.dot\") as f: \n",
    "    dot_graph = f.read()\n",
    "graphviz.Source(dot_graph)"
   ]
  },
  {
   "cell_type": "code",
   "execution_count": 96,
   "metadata": {},
   "outputs": [
    {
     "data": {
      "image/svg+xml": [
       "<?xml version=\"1.0\" encoding=\"UTF-8\" standalone=\"no\"?>\n",
       "<!DOCTYPE svg PUBLIC \"-//W3C//DTD SVG 1.1//EN\"\n",
       " \"http://www.w3.org/Graphics/SVG/1.1/DTD/svg11.dtd\">\n",
       "<!-- Generated by graphviz version 2.40.1 (20161225.0304)\n",
       " -->\n",
       "<!-- Title: Tree Pages: 1 -->\n",
       "<svg width=\"402pt\" height=\"216pt\"\n",
       " viewBox=\"0.00 0.00 402.36 216.00\" xmlns=\"http://www.w3.org/2000/svg\" xmlns:xlink=\"http://www.w3.org/1999/xlink\">\n",
       "<g id=\"graph0\" class=\"graph\" transform=\"scale(1 1) rotate(0) translate(4 212)\">\n",
       "<title>Tree</title>\n",
       "<polygon fill=\"#ffffff\" stroke=\"transparent\" points=\"-4,4 -4,-212 398.356,-212 398.356,4 -4,4\"/>\n",
       "<!-- 0 -->\n",
       "<g id=\"node1\" class=\"node\">\n",
       "<title>0</title>\n",
       "<polygon fill=\"#e58139\" fill-opacity=\"0.701961\" stroke=\"#000000\" points=\"244.2128,-208 144.7862,-208 144.7862,-158 244.2128,-158 244.2128,-208\"/>\n",
       "<text text-anchor=\"middle\" x=\"194.4995\" y=\"-192.8\" font-family=\"Times,serif\" font-size=\"14.00\" fill=\"#000000\">X[0] &lt;= 5.0</text>\n",
       "<text text-anchor=\"middle\" x=\"194.4995\" y=\"-178.8\" font-family=\"Times,serif\" font-size=\"14.00\" fill=\"#000000\">samples = 4</text>\n",
       "<text text-anchor=\"middle\" x=\"194.4995\" y=\"-164.8\" font-family=\"Times,serif\" font-size=\"14.00\" fill=\"#000000\">value = 58.125</text>\n",
       "</g>\n",
       "<!-- 1 -->\n",
       "<g id=\"node2\" class=\"node\">\n",
       "<title>1</title>\n",
       "<polygon fill=\"#e58139\" fill-opacity=\"0.019608\" stroke=\"#000000\" points=\"181.9985,-122 99.0005,-122 99.0005,-72 181.9985,-72 181.9985,-122\"/>\n",
       "<text text-anchor=\"middle\" x=\"140.4995\" y=\"-106.8\" font-family=\"Times,serif\" font-size=\"14.00\" fill=\"#000000\">X[0] &lt;= 1.5</text>\n",
       "<text text-anchor=\"middle\" x=\"140.4995\" y=\"-92.8\" font-family=\"Times,serif\" font-size=\"14.00\" fill=\"#000000\">samples = 2</text>\n",
       "<text text-anchor=\"middle\" x=\"140.4995\" y=\"-78.8\" font-family=\"Times,serif\" font-size=\"14.00\" fill=\"#000000\">value = 3.5</text>\n",
       "</g>\n",
       "<!-- 0&#45;&gt;1 -->\n",
       "<g id=\"edge1\" class=\"edge\">\n",
       "<title>0&#45;&gt;1</title>\n",
       "<path fill=\"none\" stroke=\"#000000\" d=\"M178.5898,-157.6623C173.3165,-149.2642 167.3602,-139.7781 161.7509,-130.8448\"/>\n",
       "<polygon fill=\"#000000\" stroke=\"#000000\" points=\"164.5774,-128.7643 156.2955,-122.1566 158.6491,-132.4867 164.5774,-128.7643\"/>\n",
       "<text text-anchor=\"middle\" x=\"150.7249\" y=\"-142.3281\" font-family=\"Times,serif\" font-size=\"14.00\" fill=\"#000000\">True</text>\n",
       "</g>\n",
       "<!-- 4 -->\n",
       "<g id=\"node5\" class=\"node\">\n",
       "<title>4</title>\n",
       "<polygon fill=\"#e58139\" fill-opacity=\"0.929412\" stroke=\"#000000\" points=\"299.2128,-122 199.7862,-122 199.7862,-72 299.2128,-72 299.2128,-122\"/>\n",
       "<text text-anchor=\"middle\" x=\"249.4995\" y=\"-106.8\" font-family=\"Times,serif\" font-size=\"14.00\" fill=\"#000000\">X[0] &lt;= 8.5</text>\n",
       "<text text-anchor=\"middle\" x=\"249.4995\" y=\"-92.8\" font-family=\"Times,serif\" font-size=\"14.00\" fill=\"#000000\">samples = 2</text>\n",
       "<text text-anchor=\"middle\" x=\"249.4995\" y=\"-78.8\" font-family=\"Times,serif\" font-size=\"14.00\" fill=\"#000000\">value = 76.333</text>\n",
       "</g>\n",
       "<!-- 0&#45;&gt;4 -->\n",
       "<g id=\"edge4\" class=\"edge\">\n",
       "<title>0&#45;&gt;4</title>\n",
       "<path fill=\"none\" stroke=\"#000000\" d=\"M210.7038,-157.6623C216.0748,-149.2642 222.1414,-139.7781 227.8546,-130.8448\"/>\n",
       "<polygon fill=\"#000000\" stroke=\"#000000\" points=\"230.9718,-132.4668 233.411,-122.1566 225.0746,-128.6954 230.9718,-132.4668\"/>\n",
       "<text text-anchor=\"middle\" x=\"238.7792\" y=\"-142.3734\" font-family=\"Times,serif\" font-size=\"14.00\" fill=\"#000000\">False</text>\n",
       "</g>\n",
       "<!-- 2 -->\n",
       "<g id=\"node3\" class=\"node\">\n",
       "<title>2</title>\n",
       "<polygon fill=\"transparent\" stroke=\"#000000\" points=\"82.9985,-36 .0005,-36 .0005,0 82.9985,0 82.9985,-36\"/>\n",
       "<text text-anchor=\"middle\" x=\"41.4995\" y=\"-20.8\" font-family=\"Times,serif\" font-size=\"14.00\" fill=\"#000000\">samples = 1</text>\n",
       "<text text-anchor=\"middle\" x=\"41.4995\" y=\"-6.8\" font-family=\"Times,serif\" font-size=\"14.00\" fill=\"#000000\">value = 2.0</text>\n",
       "</g>\n",
       "<!-- 1&#45;&gt;2 -->\n",
       "<g id=\"edge2\" class=\"edge\">\n",
       "<title>1&#45;&gt;2</title>\n",
       "<path fill=\"none\" stroke=\"#000000\" d=\"M108.9031,-71.7867C97.246,-62.4846 84.0579,-51.9607 72.4578,-42.7041\"/>\n",
       "<polygon fill=\"#000000\" stroke=\"#000000\" points=\"74.3359,-39.725 64.3364,-36.2234 69.9697,-45.1965 74.3359,-39.725\"/>\n",
       "</g>\n",
       "<!-- 3 -->\n",
       "<g id=\"node4\" class=\"node\">\n",
       "<title>3</title>\n",
       "<polygon fill=\"#e58139\" fill-opacity=\"0.039216\" stroke=\"#000000\" points=\"183.9985,-36 101.0005,-36 101.0005,0 183.9985,0 183.9985,-36\"/>\n",
       "<text text-anchor=\"middle\" x=\"142.4995\" y=\"-20.8\" font-family=\"Times,serif\" font-size=\"14.00\" fill=\"#000000\">samples = 1</text>\n",
       "<text text-anchor=\"middle\" x=\"142.4995\" y=\"-6.8\" font-family=\"Times,serif\" font-size=\"14.00\" fill=\"#000000\">value = 5.0</text>\n",
       "</g>\n",
       "<!-- 1&#45;&gt;3 -->\n",
       "<g id=\"edge3\" class=\"edge\">\n",
       "<title>1&#45;&gt;3</title>\n",
       "<path fill=\"none\" stroke=\"#000000\" d=\"M141.1433,-71.5691C141.3466,-63.5402 141.5724,-54.6193 141.7806,-46.397\"/>\n",
       "<polygon fill=\"#000000\" stroke=\"#000000\" points=\"145.2864,-46.2096 142.0407,-36.1242 138.2886,-46.0324 145.2864,-46.2096\"/>\n",
       "</g>\n",
       "<!-- 5 -->\n",
       "<g id=\"node6\" class=\"node\">\n",
       "<title>5</title>\n",
       "<polygon fill=\"#e58139\" fill-opacity=\"0.788235\" stroke=\"#000000\" points=\"290.2129,-36 204.7861,-36 204.7861,0 290.2129,0 290.2129,-36\"/>\n",
       "<text text-anchor=\"middle\" x=\"247.4995\" y=\"-20.8\" font-family=\"Times,serif\" font-size=\"14.00\" fill=\"#000000\">samples = 1</text>\n",
       "<text text-anchor=\"middle\" x=\"247.4995\" y=\"-6.8\" font-family=\"Times,serif\" font-size=\"14.00\" fill=\"#000000\">value = 65.0</text>\n",
       "</g>\n",
       "<!-- 4&#45;&gt;5 -->\n",
       "<g id=\"edge5\" class=\"edge\">\n",
       "<title>4&#45;&gt;5</title>\n",
       "<path fill=\"none\" stroke=\"#000000\" d=\"M248.8557,-71.5691C248.6524,-63.5402 248.4266,-54.6193 248.2184,-46.397\"/>\n",
       "<polygon fill=\"#000000\" stroke=\"#000000\" points=\"251.7104,-46.0324 247.9584,-36.1242 244.7127,-46.2096 251.7104,-46.0324\"/>\n",
       "</g>\n",
       "<!-- 6 -->\n",
       "<g id=\"node7\" class=\"node\">\n",
       "<title>6</title>\n",
       "<polygon fill=\"#e58139\" stroke=\"#000000\" points=\"394.2129,-36 308.7861,-36 308.7861,0 394.2129,0 394.2129,-36\"/>\n",
       "<text text-anchor=\"middle\" x=\"351.4995\" y=\"-20.8\" font-family=\"Times,serif\" font-size=\"14.00\" fill=\"#000000\">samples = 1</text>\n",
       "<text text-anchor=\"middle\" x=\"351.4995\" y=\"-6.8\" font-family=\"Times,serif\" font-size=\"14.00\" fill=\"#000000\">value = 82.0</text>\n",
       "</g>\n",
       "<!-- 4&#45;&gt;6 -->\n",
       "<g id=\"edge6\" class=\"edge\">\n",
       "<title>4&#45;&gt;6</title>\n",
       "<path fill=\"none\" stroke=\"#000000\" d=\"M282.0534,-71.7867C294.1804,-62.3942 307.9155,-51.7563 319.9507,-42.4348\"/>\n",
       "<polygon fill=\"#000000\" stroke=\"#000000\" points=\"322.2077,-45.1138 327.9706,-36.2234 317.9214,-39.5796 322.2077,-45.1138\"/>\n",
       "</g>\n",
       "</g>\n",
       "</svg>\n"
      ],
      "text/plain": [
       "<graphviz.files.Source at 0x1a25bc8160>"
      ]
     },
     "execution_count": 96,
     "metadata": {},
     "output_type": "execute_result"
    }
   ],
   "source": [
    "export_graphviz(forest.estimators_[0], out_file=\"graphviz/forest1.dot\", impurity=False, filled=True)\n",
    "with open(\"graphviz/forest1.dot\") as f: \n",
    "    dot_graph = f.read()\n",
    "graphviz.Source(dot_graph)\n"
   ]
  },
  {
   "cell_type": "code",
   "execution_count": 97,
   "metadata": {},
   "outputs": [
    {
     "data": {
      "image/svg+xml": [
       "<?xml version=\"1.0\" encoding=\"UTF-8\" standalone=\"no\"?>\n",
       "<!DOCTYPE svg PUBLIC \"-//W3C//DTD SVG 1.1//EN\"\n",
       " \"http://www.w3.org/Graphics/SVG/1.1/DTD/svg11.dtd\">\n",
       "<!-- Generated by graphviz version 2.40.1 (20161225.0304)\n",
       " -->\n",
       "<!-- Title: Tree Pages: 1 -->\n",
       "<svg width=\"508pt\" height=\"388pt\"\n",
       " viewBox=\"0.00 0.00 508.36 388.00\" xmlns=\"http://www.w3.org/2000/svg\" xmlns:xlink=\"http://www.w3.org/1999/xlink\">\n",
       "<g id=\"graph0\" class=\"graph\" transform=\"scale(1 1) rotate(0) translate(4 384)\">\n",
       "<title>Tree</title>\n",
       "<polygon fill=\"#ffffff\" stroke=\"transparent\" points=\"-4,4 -4,-384 504.356,-384 504.356,4 -4,4\"/>\n",
       "<!-- 0 -->\n",
       "<g id=\"node1\" class=\"node\">\n",
       "<title>0</title>\n",
       "<polygon fill=\"#e58139\" fill-opacity=\"0.411765\" stroke=\"#000000\" points=\"342.2129,-380 256.7861,-380 256.7861,-330 342.2129,-330 342.2129,-380\"/>\n",
       "<text text-anchor=\"middle\" x=\"299.4995\" y=\"-364.8\" font-family=\"Times,serif\" font-size=\"14.00\" fill=\"#000000\">X[0] &lt;= 6.5</text>\n",
       "<text text-anchor=\"middle\" x=\"299.4995\" y=\"-350.8\" font-family=\"Times,serif\" font-size=\"14.00\" fill=\"#000000\">samples = 6</text>\n",
       "<text text-anchor=\"middle\" x=\"299.4995\" y=\"-336.8\" font-family=\"Times,serif\" font-size=\"14.00\" fill=\"#000000\">value = 35.0</text>\n",
       "</g>\n",
       "<!-- 1 -->\n",
       "<g id=\"node2\" class=\"node\">\n",
       "<title>1</title>\n",
       "<polygon fill=\"#e58139\" fill-opacity=\"0.141176\" stroke=\"#000000\" points=\"287.2129,-294 201.7861,-294 201.7861,-244 287.2129,-244 287.2129,-294\"/>\n",
       "<text text-anchor=\"middle\" x=\"244.4995\" y=\"-278.8\" font-family=\"Times,serif\" font-size=\"14.00\" fill=\"#000000\">X[0] &lt;= 5.0</text>\n",
       "<text text-anchor=\"middle\" x=\"244.4995\" y=\"-264.8\" font-family=\"Times,serif\" font-size=\"14.00\" fill=\"#000000\">samples = 4</text>\n",
       "<text text-anchor=\"middle\" x=\"244.4995\" y=\"-250.8\" font-family=\"Times,serif\" font-size=\"14.00\" fill=\"#000000\">value = 13.2</text>\n",
       "</g>\n",
       "<!-- 0&#45;&gt;1 -->\n",
       "<g id=\"edge1\" class=\"edge\">\n",
       "<title>0&#45;&gt;1</title>\n",
       "<path fill=\"none\" stroke=\"#000000\" d=\"M283.2952,-329.6623C277.9243,-321.2642 271.8576,-311.7781 266.1445,-302.8448\"/>\n",
       "<polygon fill=\"#000000\" stroke=\"#000000\" points=\"268.9244,-300.6954 260.588,-294.1566 263.0273,-304.4668 268.9244,-300.6954\"/>\n",
       "<text text-anchor=\"middle\" x=\"255.2198\" y=\"-314.3734\" font-family=\"Times,serif\" font-size=\"14.00\" fill=\"#000000\">True</text>\n",
       "</g>\n",
       "<!-- 8 -->\n",
       "<g id=\"node9\" class=\"node\">\n",
       "<title>8</title>\n",
       "<polygon fill=\"#e58139\" fill-opacity=\"0.866667\" stroke=\"#000000\" points=\"405.2128,-294 305.7862,-294 305.7862,-244 405.2128,-244 405.2128,-294\"/>\n",
       "<text text-anchor=\"middle\" x=\"355.4995\" y=\"-278.8\" font-family=\"Times,serif\" font-size=\"14.00\" fill=\"#000000\">X[0] &lt;= 8.0</text>\n",
       "<text text-anchor=\"middle\" x=\"355.4995\" y=\"-264.8\" font-family=\"Times,serif\" font-size=\"14.00\" fill=\"#000000\">samples = 2</text>\n",
       "<text text-anchor=\"middle\" x=\"355.4995\" y=\"-250.8\" font-family=\"Times,serif\" font-size=\"14.00\" fill=\"#000000\">value = 71.333</text>\n",
       "</g>\n",
       "<!-- 0&#45;&gt;8 -->\n",
       "<g id=\"edge8\" class=\"edge\">\n",
       "<title>0&#45;&gt;8</title>\n",
       "<path fill=\"none\" stroke=\"#000000\" d=\"M315.9985,-329.6623C321.524,-321.1767 327.7728,-311.5803 333.6427,-302.5658\"/>\n",
       "<polygon fill=\"#000000\" stroke=\"#000000\" points=\"336.5947,-304.4465 339.1185,-294.1566 330.7287,-300.6267 336.5947,-304.4465\"/>\n",
       "<text text-anchor=\"middle\" x=\"344.2861\" y=\"-314.4167\" font-family=\"Times,serif\" font-size=\"14.00\" fill=\"#000000\">False</text>\n",
       "</g>\n",
       "<!-- 2 -->\n",
       "<g id=\"node3\" class=\"node\">\n",
       "<title>2</title>\n",
       "<polygon fill=\"#e58139\" fill-opacity=\"0.066667\" stroke=\"#000000\" points=\"185.2129,-208 99.7861,-208 99.7861,-158 185.2129,-158 185.2129,-208\"/>\n",
       "<text text-anchor=\"middle\" x=\"142.4995\" y=\"-192.8\" font-family=\"Times,serif\" font-size=\"14.00\" fill=\"#000000\">X[0] &lt;= 3.0</text>\n",
       "<text text-anchor=\"middle\" x=\"142.4995\" y=\"-178.8\" font-family=\"Times,serif\" font-size=\"14.00\" fill=\"#000000\">samples = 3</text>\n",
       "<text text-anchor=\"middle\" x=\"142.4995\" y=\"-164.8\" font-family=\"Times,serif\" font-size=\"14.00\" fill=\"#000000\">value = 7.25</text>\n",
       "</g>\n",
       "<!-- 1&#45;&gt;2 -->\n",
       "<g id=\"edge2\" class=\"edge\">\n",
       "<title>1&#45;&gt;2</title>\n",
       "<path fill=\"none\" stroke=\"#000000\" d=\"M214.7227,-243.8941C203.9251,-234.7902 191.5828,-224.384 180.1927,-214.7805\"/>\n",
       "<polygon fill=\"#000000\" stroke=\"#000000\" points=\"182.3913,-212.0562 172.4899,-208.286 177.8791,-217.4079 182.3913,-212.0562\"/>\n",
       "</g>\n",
       "<!-- 7 -->\n",
       "<g id=\"node8\" class=\"node\">\n",
       "<title>7</title>\n",
       "<polygon fill=\"#e58139\" fill-opacity=\"0.439216\" stroke=\"#000000\" points=\"289.2129,-201 203.7861,-201 203.7861,-165 289.2129,-165 289.2129,-201\"/>\n",
       "<text text-anchor=\"middle\" x=\"246.4995\" y=\"-185.8\" font-family=\"Times,serif\" font-size=\"14.00\" fill=\"#000000\">samples = 1</text>\n",
       "<text text-anchor=\"middle\" x=\"246.4995\" y=\"-171.8\" font-family=\"Times,serif\" font-size=\"14.00\" fill=\"#000000\">value = 37.0</text>\n",
       "</g>\n",
       "<!-- 1&#45;&gt;7 -->\n",
       "<g id=\"edge7\" class=\"edge\">\n",
       "<title>1&#45;&gt;7</title>\n",
       "<path fill=\"none\" stroke=\"#000000\" d=\"M245.0888,-243.6623C245.3248,-233.513 245.5978,-221.7747 245.8404,-211.3436\"/>\n",
       "<polygon fill=\"#000000\" stroke=\"#000000\" points=\"249.3458,-211.1464 246.0793,-201.0677 242.3477,-210.9836 249.3458,-211.1464\"/>\n",
       "</g>\n",
       "<!-- 3 -->\n",
       "<g id=\"node4\" class=\"node\">\n",
       "<title>3</title>\n",
       "<polygon fill=\"#e58139\" fill-opacity=\"0.023529\" stroke=\"#000000\" points=\"132.9985,-122 50.0005,-122 50.0005,-72 132.9985,-72 132.9985,-122\"/>\n",
       "<text text-anchor=\"middle\" x=\"91.4995\" y=\"-106.8\" font-family=\"Times,serif\" font-size=\"14.00\" fill=\"#000000\">X[0] &lt;= 1.5</text>\n",
       "<text text-anchor=\"middle\" x=\"91.4995\" y=\"-92.8\" font-family=\"Times,serif\" font-size=\"14.00\" fill=\"#000000\">samples = 2</text>\n",
       "<text text-anchor=\"middle\" x=\"91.4995\" y=\"-78.8\" font-family=\"Times,serif\" font-size=\"14.00\" fill=\"#000000\">value = 4.0</text>\n",
       "</g>\n",
       "<!-- 2&#45;&gt;3 -->\n",
       "<g id=\"edge3\" class=\"edge\">\n",
       "<title>2&#45;&gt;3</title>\n",
       "<path fill=\"none\" stroke=\"#000000\" d=\"M127.4737,-157.6623C122.4934,-149.2642 116.8679,-139.7781 111.5703,-130.8448\"/>\n",
       "<polygon fill=\"#000000\" stroke=\"#000000\" points=\"114.5292,-128.9726 106.418,-122.1566 108.5083,-132.5432 114.5292,-128.9726\"/>\n",
       "</g>\n",
       "<!-- 6 -->\n",
       "<g id=\"node7\" class=\"node\">\n",
       "<title>6</title>\n",
       "<polygon fill=\"#e58139\" fill-opacity=\"0.188235\" stroke=\"#000000\" points=\"236.2129,-115 150.7861,-115 150.7861,-79 236.2129,-79 236.2129,-115\"/>\n",
       "<text text-anchor=\"middle\" x=\"193.4995\" y=\"-99.8\" font-family=\"Times,serif\" font-size=\"14.00\" fill=\"#000000\">samples = 1</text>\n",
       "<text text-anchor=\"middle\" x=\"193.4995\" y=\"-85.8\" font-family=\"Times,serif\" font-size=\"14.00\" fill=\"#000000\">value = 17.0</text>\n",
       "</g>\n",
       "<!-- 2&#45;&gt;6 -->\n",
       "<g id=\"edge6\" class=\"edge\">\n",
       "<title>2&#45;&gt;6</title>\n",
       "<path fill=\"none\" stroke=\"#000000\" d=\"M157.5254,-157.6623C163.8609,-146.9788 171.2405,-134.5347 177.6611,-123.7078\"/>\n",
       "<polygon fill=\"#000000\" stroke=\"#000000\" points=\"180.6946,-125.4543 182.7849,-115.0677 174.6737,-121.8837 180.6946,-125.4543\"/>\n",
       "</g>\n",
       "<!-- 4 -->\n",
       "<g id=\"node5\" class=\"node\">\n",
       "<title>4</title>\n",
       "<polygon fill=\"transparent\" stroke=\"#000000\" points=\"82.9985,-36 .0005,-36 .0005,0 82.9985,0 82.9985,-36\"/>\n",
       "<text text-anchor=\"middle\" x=\"41.4995\" y=\"-20.8\" font-family=\"Times,serif\" font-size=\"14.00\" fill=\"#000000\">samples = 1</text>\n",
       "<text text-anchor=\"middle\" x=\"41.4995\" y=\"-6.8\" font-family=\"Times,serif\" font-size=\"14.00\" fill=\"#000000\">value = 2.0</text>\n",
       "</g>\n",
       "<!-- 3&#45;&gt;4 -->\n",
       "<g id=\"edge4\" class=\"edge\">\n",
       "<title>3&#45;&gt;4</title>\n",
       "<path fill=\"none\" stroke=\"#000000\" d=\"M75.404,-71.5691C69.9798,-62.9989 63.9124,-53.4124 58.4261,-44.7441\"/>\n",
       "<polygon fill=\"#000000\" stroke=\"#000000\" points=\"61.276,-42.7022 52.9705,-36.1242 55.3611,-46.4458 61.276,-42.7022\"/>\n",
       "</g>\n",
       "<!-- 5 -->\n",
       "<g id=\"node6\" class=\"node\">\n",
       "<title>5</title>\n",
       "<polygon fill=\"#e58139\" fill-opacity=\"0.039216\" stroke=\"#000000\" points=\"183.9985,-36 101.0005,-36 101.0005,0 183.9985,0 183.9985,-36\"/>\n",
       "<text text-anchor=\"middle\" x=\"142.4995\" y=\"-20.8\" font-family=\"Times,serif\" font-size=\"14.00\" fill=\"#000000\">samples = 1</text>\n",
       "<text text-anchor=\"middle\" x=\"142.4995\" y=\"-6.8\" font-family=\"Times,serif\" font-size=\"14.00\" fill=\"#000000\">value = 5.0</text>\n",
       "</g>\n",
       "<!-- 3&#45;&gt;5 -->\n",
       "<g id=\"edge5\" class=\"edge\">\n",
       "<title>3&#45;&gt;5</title>\n",
       "<path fill=\"none\" stroke=\"#000000\" d=\"M107.917,-71.5691C113.4496,-62.9989 119.6383,-53.4124 125.2343,-44.7441\"/>\n",
       "<polygon fill=\"#000000\" stroke=\"#000000\" points=\"128.3158,-46.4239 130.7991,-36.1242 122.4348,-42.6273 128.3158,-46.4239\"/>\n",
       "</g>\n",
       "<!-- 9 -->\n",
       "<g id=\"node10\" class=\"node\">\n",
       "<title>9</title>\n",
       "<polygon fill=\"#e58139\" fill-opacity=\"0.600000\" stroke=\"#000000\" points=\"396.2129,-201 310.7861,-201 310.7861,-165 396.2129,-165 396.2129,-201\"/>\n",
       "<text text-anchor=\"middle\" x=\"353.4995\" y=\"-185.8\" font-family=\"Times,serif\" font-size=\"14.00\" fill=\"#000000\">samples = 1</text>\n",
       "<text text-anchor=\"middle\" x=\"353.4995\" y=\"-171.8\" font-family=\"Times,serif\" font-size=\"14.00\" fill=\"#000000\">value = 50.0</text>\n",
       "</g>\n",
       "<!-- 8&#45;&gt;9 -->\n",
       "<g id=\"edge9\" class=\"edge\">\n",
       "<title>8&#45;&gt;9</title>\n",
       "<path fill=\"none\" stroke=\"#000000\" d=\"M354.9103,-243.6623C354.6742,-233.513 354.4012,-221.7747 354.1587,-211.3436\"/>\n",
       "<polygon fill=\"#000000\" stroke=\"#000000\" points=\"357.6513,-210.9836 353.9197,-201.0677 350.6532,-211.1464 357.6513,-210.9836\"/>\n",
       "</g>\n",
       "<!-- 10 -->\n",
       "<g id=\"node11\" class=\"node\">\n",
       "<title>10</title>\n",
       "<polygon fill=\"#e58139\" stroke=\"#000000\" points=\"500.2129,-201 414.7861,-201 414.7861,-165 500.2129,-165 500.2129,-201\"/>\n",
       "<text text-anchor=\"middle\" x=\"457.4995\" y=\"-185.8\" font-family=\"Times,serif\" font-size=\"14.00\" fill=\"#000000\">samples = 1</text>\n",
       "<text text-anchor=\"middle\" x=\"457.4995\" y=\"-171.8\" font-family=\"Times,serif\" font-size=\"14.00\" fill=\"#000000\">value = 82.0</text>\n",
       "</g>\n",
       "<!-- 8&#45;&gt;10 -->\n",
       "<g id=\"edge10\" class=\"edge\">\n",
       "<title>8&#45;&gt;10</title>\n",
       "<path fill=\"none\" stroke=\"#000000\" d=\"M385.2763,-243.8941C398.7163,-232.5623 414.5496,-219.2127 427.9611,-207.905\"/>\n",
       "<polygon fill=\"#000000\" stroke=\"#000000\" points=\"430.5665,-210.2863 435.9556,-201.1645 426.0542,-204.9346 430.5665,-210.2863\"/>\n",
       "</g>\n",
       "</g>\n",
       "</svg>\n"
      ],
      "text/plain": [
       "<graphviz.files.Source at 0x1a261d5ac8>"
      ]
     },
     "execution_count": 97,
     "metadata": {},
     "output_type": "execute_result"
    }
   ],
   "source": [
    "export_graphviz(forest.estimators_[1], out_file=\"graphviz/forest2.dot\", impurity=False, filled=True)\n",
    "with open(\"graphviz/forest2.dot\") as f: \n",
    "    dot_graph = f.read()\n",
    "graphviz.Source(dot_graph)\n"
   ]
  },
  {
   "cell_type": "code",
   "execution_count": 98,
   "metadata": {},
   "outputs": [
    {
     "data": {
      "image/svg+xml": [
       "<?xml version=\"1.0\" encoding=\"UTF-8\" standalone=\"no\"?>\n",
       "<!DOCTYPE svg PUBLIC \"-//W3C//DTD SVG 1.1//EN\"\n",
       " \"http://www.w3.org/Graphics/SVG/1.1/DTD/svg11.dtd\">\n",
       "<!-- Generated by graphviz version 2.40.1 (20161225.0304)\n",
       " -->\n",
       "<!-- Title: Tree Pages: 1 -->\n",
       "<svg width=\"414pt\" height=\"302pt\"\n",
       " viewBox=\"0.00 0.00 413.86 302.00\" xmlns=\"http://www.w3.org/2000/svg\" xmlns:xlink=\"http://www.w3.org/1999/xlink\">\n",
       "<g id=\"graph0\" class=\"graph\" transform=\"scale(1 1) rotate(0) translate(4 298)\">\n",
       "<title>Tree</title>\n",
       "<polygon fill=\"#ffffff\" stroke=\"transparent\" points=\"-4,4 -4,-298 409.856,-298 409.856,4 -4,4\"/>\n",
       "<!-- 0 -->\n",
       "<g id=\"node1\" class=\"node\">\n",
       "<title>0</title>\n",
       "<polygon fill=\"#e58139\" fill-opacity=\"0.623529\" stroke=\"#000000\" points=\"243.7128,-294 151.2862,-294 151.2862,-244 243.7128,-244 243.7128,-294\"/>\n",
       "<text text-anchor=\"middle\" x=\"197.4995\" y=\"-278.8\" font-family=\"Times,serif\" font-size=\"14.00\" fill=\"#000000\">X[0] &lt;= 8.0</text>\n",
       "<text text-anchor=\"middle\" x=\"197.4995\" y=\"-264.8\" font-family=\"Times,serif\" font-size=\"14.00\" fill=\"#000000\">samples = 5</text>\n",
       "<text text-anchor=\"middle\" x=\"197.4995\" y=\"-250.8\" font-family=\"Times,serif\" font-size=\"14.00\" fill=\"#000000\">value = 77.75</text>\n",
       "</g>\n",
       "<!-- 1 -->\n",
       "<g id=\"node2\" class=\"node\">\n",
       "<title>1</title>\n",
       "<polygon fill=\"#e58139\" fill-opacity=\"0.219608\" stroke=\"#000000\" points=\"190.2128,-208 90.7862,-208 90.7862,-158 190.2128,-158 190.2128,-208\"/>\n",
       "<text text-anchor=\"middle\" x=\"140.4995\" y=\"-192.8\" font-family=\"Times,serif\" font-size=\"14.00\" fill=\"#000000\">X[0] &lt;= 4.0</text>\n",
       "<text text-anchor=\"middle\" x=\"140.4995\" y=\"-178.8\" font-family=\"Times,serif\" font-size=\"14.00\" fill=\"#000000\">samples = 3</text>\n",
       "<text text-anchor=\"middle\" x=\"140.4995\" y=\"-164.8\" font-family=\"Times,serif\" font-size=\"14.00\" fill=\"#000000\">value = 30.667</text>\n",
       "</g>\n",
       "<!-- 0&#45;&gt;1 -->\n",
       "<g id=\"edge1\" class=\"edge\">\n",
       "<title>0&#45;&gt;1</title>\n",
       "<path fill=\"none\" stroke=\"#000000\" d=\"M180.7059,-243.6623C175.0817,-235.1767 168.7214,-225.5803 162.7466,-216.5658\"/>\n",
       "<polygon fill=\"#000000\" stroke=\"#000000\" points=\"165.6151,-214.5584 157.1731,-208.1566 159.7803,-218.4256 165.6151,-214.5584\"/>\n",
       "<text text-anchor=\"middle\" x=\"152.2043\" y=\"-228.4578\" font-family=\"Times,serif\" font-size=\"14.00\" fill=\"#000000\">True</text>\n",
       "</g>\n",
       "<!-- 6 -->\n",
       "<g id=\"node7\" class=\"node\">\n",
       "<title>6</title>\n",
       "<polygon fill=\"#e58139\" fill-opacity=\"0.862745\" stroke=\"#000000\" points=\"300.7128,-208 208.2862,-208 208.2862,-158 300.7128,-158 300.7128,-208\"/>\n",
       "<text text-anchor=\"middle\" x=\"254.4995\" y=\"-192.8\" font-family=\"Times,serif\" font-size=\"14.00\" fill=\"#000000\">X[0] &lt;= 10.0</text>\n",
       "<text text-anchor=\"middle\" x=\"254.4995\" y=\"-178.8\" font-family=\"Times,serif\" font-size=\"14.00\" fill=\"#000000\">samples = 2</text>\n",
       "<text text-anchor=\"middle\" x=\"254.4995\" y=\"-164.8\" font-family=\"Times,serif\" font-size=\"14.00\" fill=\"#000000\">value = 106.0</text>\n",
       "</g>\n",
       "<!-- 0&#45;&gt;6 -->\n",
       "<g id=\"edge6\" class=\"edge\">\n",
       "<title>0&#45;&gt;6</title>\n",
       "<path fill=\"none\" stroke=\"#000000\" d=\"M214.2931,-243.6623C219.9173,-235.1767 226.2777,-225.5803 232.2524,-216.5658\"/>\n",
       "<polygon fill=\"#000000\" stroke=\"#000000\" points=\"235.2187,-218.4256 237.826,-208.1566 229.3839,-214.5584 235.2187,-218.4256\"/>\n",
       "<text text-anchor=\"middle\" x=\"242.7947\" y=\"-228.4578\" font-family=\"Times,serif\" font-size=\"14.00\" fill=\"#000000\">False</text>\n",
       "</g>\n",
       "<!-- 2 -->\n",
       "<g id=\"node3\" class=\"node\">\n",
       "<title>2</title>\n",
       "<polygon fill=\"transparent\" stroke=\"#000000\" points=\"82.9985,-115 .0005,-115 .0005,-79 82.9985,-79 82.9985,-115\"/>\n",
       "<text text-anchor=\"middle\" x=\"41.4995\" y=\"-99.8\" font-family=\"Times,serif\" font-size=\"14.00\" fill=\"#000000\">samples = 1</text>\n",
       "<text text-anchor=\"middle\" x=\"41.4995\" y=\"-85.8\" font-family=\"Times,serif\" font-size=\"14.00\" fill=\"#000000\">value = 5.0</text>\n",
       "</g>\n",
       "<!-- 1&#45;&gt;2 -->\n",
       "<g id=\"edge2\" class=\"edge\">\n",
       "<title>1&#45;&gt;2</title>\n",
       "<path fill=\"none\" stroke=\"#000000\" d=\"M111.5985,-157.8941C98.5538,-146.5623 83.1862,-133.2127 70.1692,-121.905\"/>\n",
       "<polygon fill=\"#000000\" stroke=\"#000000\" points=\"72.2545,-119.0802 62.4098,-115.1645 67.6638,-124.3648 72.2545,-119.0802\"/>\n",
       "</g>\n",
       "<!-- 3 -->\n",
       "<g id=\"node4\" class=\"node\">\n",
       "<title>3</title>\n",
       "<polygon fill=\"#e58139\" fill-opacity=\"0.329412\" stroke=\"#000000\" points=\"186.2129,-122 100.7861,-122 100.7861,-72 186.2129,-72 186.2129,-122\"/>\n",
       "<text text-anchor=\"middle\" x=\"143.4995\" y=\"-106.8\" font-family=\"Times,serif\" font-size=\"14.00\" fill=\"#000000\">X[0] &lt;= 6.5</text>\n",
       "<text text-anchor=\"middle\" x=\"143.4995\" y=\"-92.8\" font-family=\"Times,serif\" font-size=\"14.00\" fill=\"#000000\">samples = 2</text>\n",
       "<text text-anchor=\"middle\" x=\"143.4995\" y=\"-78.8\" font-family=\"Times,serif\" font-size=\"14.00\" fill=\"#000000\">value = 43.5</text>\n",
       "</g>\n",
       "<!-- 1&#45;&gt;3 -->\n",
       "<g id=\"edge3\" class=\"edge\">\n",
       "<title>1&#45;&gt;3</title>\n",
       "<path fill=\"none\" stroke=\"#000000\" d=\"M141.3834,-157.6623C141.6611,-149.7016 141.9729,-140.7633 142.27,-132.2449\"/>\n",
       "<polygon fill=\"#000000\" stroke=\"#000000\" points=\"145.7711,-132.2726 142.622,-122.1566 138.7754,-132.0285 145.7711,-132.2726\"/>\n",
       "</g>\n",
       "<!-- 4 -->\n",
       "<g id=\"node5\" class=\"node\">\n",
       "<title>4</title>\n",
       "<polygon fill=\"#e58139\" fill-opacity=\"0.274510\" stroke=\"#000000\" points=\"134.2129,-36 48.7861,-36 48.7861,0 134.2129,0 134.2129,-36\"/>\n",
       "<text text-anchor=\"middle\" x=\"91.4995\" y=\"-20.8\" font-family=\"Times,serif\" font-size=\"14.00\" fill=\"#000000\">samples = 1</text>\n",
       "<text text-anchor=\"middle\" x=\"91.4995\" y=\"-6.8\" font-family=\"Times,serif\" font-size=\"14.00\" fill=\"#000000\">value = 37.0</text>\n",
       "</g>\n",
       "<!-- 3&#45;&gt;4 -->\n",
       "<g id=\"edge4\" class=\"edge\">\n",
       "<title>3&#45;&gt;4</title>\n",
       "<path fill=\"none\" stroke=\"#000000\" d=\"M126.7602,-71.5691C121.1191,-62.9989 114.809,-53.4124 109.1032,-44.7441\"/>\n",
       "<polygon fill=\"#000000\" stroke=\"#000000\" points=\"111.851,-42.5528 103.4294,-36.1242 106.004,-46.4015 111.851,-42.5528\"/>\n",
       "</g>\n",
       "<!-- 5 -->\n",
       "<g id=\"node6\" class=\"node\">\n",
       "<title>5</title>\n",
       "<polygon fill=\"#e58139\" fill-opacity=\"0.384314\" stroke=\"#000000\" points=\"238.2129,-36 152.7861,-36 152.7861,0 238.2129,0 238.2129,-36\"/>\n",
       "<text text-anchor=\"middle\" x=\"195.4995\" y=\"-20.8\" font-family=\"Times,serif\" font-size=\"14.00\" fill=\"#000000\">samples = 1</text>\n",
       "<text text-anchor=\"middle\" x=\"195.4995\" y=\"-6.8\" font-family=\"Times,serif\" font-size=\"14.00\" fill=\"#000000\">value = 50.0</text>\n",
       "</g>\n",
       "<!-- 3&#45;&gt;5 -->\n",
       "<g id=\"edge5\" class=\"edge\">\n",
       "<title>3&#45;&gt;5</title>\n",
       "<path fill=\"none\" stroke=\"#000000\" d=\"M160.2389,-71.5691C165.88,-62.9989 172.1901,-53.4124 177.8958,-44.7441\"/>\n",
       "<polygon fill=\"#000000\" stroke=\"#000000\" points=\"180.995,-46.4015 183.5697,-36.1242 175.148,-42.5528 180.995,-46.4015\"/>\n",
       "</g>\n",
       "<!-- 7 -->\n",
       "<g id=\"node8\" class=\"node\">\n",
       "<title>7</title>\n",
       "<polygon fill=\"#e58139\" fill-opacity=\"0.658824\" stroke=\"#000000\" points=\"295.2129,-115 209.7861,-115 209.7861,-79 295.2129,-79 295.2129,-115\"/>\n",
       "<text text-anchor=\"middle\" x=\"252.4995\" y=\"-99.8\" font-family=\"Times,serif\" font-size=\"14.00\" fill=\"#000000\">samples = 1</text>\n",
       "<text text-anchor=\"middle\" x=\"252.4995\" y=\"-85.8\" font-family=\"Times,serif\" font-size=\"14.00\" fill=\"#000000\">value = 82.0</text>\n",
       "</g>\n",
       "<!-- 6&#45;&gt;7 -->\n",
       "<g id=\"edge7\" class=\"edge\">\n",
       "<title>6&#45;&gt;7</title>\n",
       "<path fill=\"none\" stroke=\"#000000\" d=\"M253.9103,-157.6623C253.6742,-147.513 253.4012,-135.7747 253.1587,-125.3436\"/>\n",
       "<polygon fill=\"#000000\" stroke=\"#000000\" points=\"256.6513,-124.9836 252.9197,-115.0677 249.6532,-125.1464 256.6513,-124.9836\"/>\n",
       "</g>\n",
       "<!-- 8 -->\n",
       "<g id=\"node9\" class=\"node\">\n",
       "<title>8</title>\n",
       "<polygon fill=\"#e58139\" stroke=\"#000000\" points=\"405.7128,-115 313.2862,-115 313.2862,-79 405.7128,-79 405.7128,-115\"/>\n",
       "<text text-anchor=\"middle\" x=\"359.4995\" y=\"-99.8\" font-family=\"Times,serif\" font-size=\"14.00\" fill=\"#000000\">samples = 1</text>\n",
       "<text text-anchor=\"middle\" x=\"359.4995\" y=\"-85.8\" font-family=\"Times,serif\" font-size=\"14.00\" fill=\"#000000\">value = 122.0</text>\n",
       "</g>\n",
       "<!-- 6&#45;&gt;8 -->\n",
       "<g id=\"edge8\" class=\"edge\">\n",
       "<title>6&#45;&gt;8</title>\n",
       "<path fill=\"none\" stroke=\"#000000\" d=\"M285.1521,-157.8941C299.1179,-146.4554 315.5941,-132.9606 329.4824,-121.5855\"/>\n",
       "<polygon fill=\"#000000\" stroke=\"#000000\" points=\"331.8034,-124.2086 337.322,-115.1645 327.3679,-118.7932 331.8034,-124.2086\"/>\n",
       "</g>\n",
       "</g>\n",
       "</svg>\n"
      ],
      "text/plain": [
       "<graphviz.files.Source at 0x1a25bbc748>"
      ]
     },
     "execution_count": 98,
     "metadata": {},
     "output_type": "execute_result"
    }
   ],
   "source": [
    "export_graphviz(forest.estimators_[2], out_file=\"graphviz/forest3.dot\", impurity=False, filled=True)\n",
    "with open(\"graphviz/forest3.dot\") as f: \n",
    "    dot_graph = f.read()\n",
    "graphviz.Source(dot_graph)\n"
   ]
  },
  {
   "cell_type": "code",
   "execution_count": 99,
   "metadata": {},
   "outputs": [
    {
     "data": {
      "image/svg+xml": [
       "<?xml version=\"1.0\" encoding=\"UTF-8\" standalone=\"no\"?>\n",
       "<!DOCTYPE svg PUBLIC \"-//W3C//DTD SVG 1.1//EN\"\n",
       " \"http://www.w3.org/Graphics/SVG/1.1/DTD/svg11.dtd\">\n",
       "<!-- Generated by graphviz version 2.40.1 (20161225.0304)\n",
       " -->\n",
       "<!-- Title: Tree Pages: 1 -->\n",
       "<svg width=\"460pt\" height=\"302pt\"\n",
       " viewBox=\"0.00 0.00 459.86 302.00\" xmlns=\"http://www.w3.org/2000/svg\" xmlns:xlink=\"http://www.w3.org/1999/xlink\">\n",
       "<g id=\"graph0\" class=\"graph\" transform=\"scale(1 1) rotate(0) translate(4 298)\">\n",
       "<title>Tree</title>\n",
       "<polygon fill=\"#ffffff\" stroke=\"transparent\" points=\"-4,4 -4,-298 455.856,-298 455.856,4 -4,4\"/>\n",
       "<!-- 0 -->\n",
       "<g id=\"node1\" class=\"node\">\n",
       "<title>0</title>\n",
       "<polygon fill=\"#e58139\" fill-opacity=\"0.411765\" stroke=\"#000000\" points=\"295.2128,-294 195.7862,-294 195.7862,-244 295.2128,-244 295.2128,-294\"/>\n",
       "<text text-anchor=\"middle\" x=\"245.4995\" y=\"-278.8\" font-family=\"Times,serif\" font-size=\"14.00\" fill=\"#000000\">X[0] &lt;= 8.0</text>\n",
       "<text text-anchor=\"middle\" x=\"245.4995\" y=\"-264.8\" font-family=\"Times,serif\" font-size=\"14.00\" fill=\"#000000\">samples = 5</text>\n",
       "<text text-anchor=\"middle\" x=\"245.4995\" y=\"-250.8\" font-family=\"Times,serif\" font-size=\"14.00\" fill=\"#000000\">value = 51.375</text>\n",
       "</g>\n",
       "<!-- 1 -->\n",
       "<g id=\"node2\" class=\"node\">\n",
       "<title>1</title>\n",
       "<polygon fill=\"#e58139\" fill-opacity=\"0.270588\" stroke=\"#000000\" points=\"235.2129,-208 149.7861,-208 149.7861,-158 235.2129,-158 235.2129,-208\"/>\n",
       "<text text-anchor=\"middle\" x=\"192.4995\" y=\"-192.8\" font-family=\"Times,serif\" font-size=\"14.00\" fill=\"#000000\">X[0] &lt;= 4.5</text>\n",
       "<text text-anchor=\"middle\" x=\"192.4995\" y=\"-178.8\" font-family=\"Times,serif\" font-size=\"14.00\" fill=\"#000000\">samples = 3</text>\n",
       "<text text-anchor=\"middle\" x=\"192.4995\" y=\"-164.8\" font-family=\"Times,serif\" font-size=\"14.00\" fill=\"#000000\">value = 34.5</text>\n",
       "</g>\n",
       "<!-- 0&#45;&gt;1 -->\n",
       "<g id=\"edge1\" class=\"edge\">\n",
       "<title>0&#45;&gt;1</title>\n",
       "<path fill=\"none\" stroke=\"#000000\" d=\"M229.8844,-243.6623C224.7088,-235.2642 218.8627,-225.7781 213.3574,-216.8448\"/>\n",
       "<polygon fill=\"#000000\" stroke=\"#000000\" points=\"216.2292,-214.8335 208.003,-208.1566 210.2699,-218.5061 216.2292,-214.8335\"/>\n",
       "<text text-anchor=\"middle\" x=\"202.2283\" y=\"-228.2805\" font-family=\"Times,serif\" font-size=\"14.00\" fill=\"#000000\">True</text>\n",
       "</g>\n",
       "<!-- 6 -->\n",
       "<g id=\"node7\" class=\"node\">\n",
       "<title>6</title>\n",
       "<polygon fill=\"#e58139\" fill-opacity=\"0.831373\" stroke=\"#000000\" points=\"345.7128,-208 253.2862,-208 253.2862,-158 345.7128,-158 345.7128,-208\"/>\n",
       "<text text-anchor=\"middle\" x=\"299.4995\" y=\"-192.8\" font-family=\"Times,serif\" font-size=\"14.00\" fill=\"#000000\">X[0] &lt;= 10.0</text>\n",
       "<text text-anchor=\"middle\" x=\"299.4995\" y=\"-178.8\" font-family=\"Times,serif\" font-size=\"14.00\" fill=\"#000000\">samples = 2</text>\n",
       "<text text-anchor=\"middle\" x=\"299.4995\" y=\"-164.8\" font-family=\"Times,serif\" font-size=\"14.00\" fill=\"#000000\">value = 102.0</text>\n",
       "</g>\n",
       "<!-- 0&#45;&gt;6 -->\n",
       "<g id=\"edge6\" class=\"edge\">\n",
       "<title>0&#45;&gt;6</title>\n",
       "<path fill=\"none\" stroke=\"#000000\" d=\"M261.4092,-243.6623C266.6825,-235.2642 272.6389,-225.7781 278.2481,-216.8448\"/>\n",
       "<polygon fill=\"#000000\" stroke=\"#000000\" points=\"281.3499,-218.4867 283.7035,-208.1566 275.4217,-214.7643 281.3499,-218.4867\"/>\n",
       "<text text-anchor=\"middle\" x=\"289.2741\" y=\"-228.3281\" font-family=\"Times,serif\" font-size=\"14.00\" fill=\"#000000\">False</text>\n",
       "</g>\n",
       "<!-- 2 -->\n",
       "<g id=\"node3\" class=\"node\">\n",
       "<title>2</title>\n",
       "<polygon fill=\"#e58139\" fill-opacity=\"0.011765\" stroke=\"#000000\" points=\"132.9985,-122 50.0005,-122 50.0005,-72 132.9985,-72 132.9985,-122\"/>\n",
       "<text text-anchor=\"middle\" x=\"91.4995\" y=\"-106.8\" font-family=\"Times,serif\" font-size=\"14.00\" fill=\"#000000\">X[0] &lt;= 1.5</text>\n",
       "<text text-anchor=\"middle\" x=\"91.4995\" y=\"-92.8\" font-family=\"Times,serif\" font-size=\"14.00\" fill=\"#000000\">samples = 2</text>\n",
       "<text text-anchor=\"middle\" x=\"91.4995\" y=\"-78.8\" font-family=\"Times,serif\" font-size=\"14.00\" fill=\"#000000\">value = 3.5</text>\n",
       "</g>\n",
       "<!-- 1&#45;&gt;2 -->\n",
       "<g id=\"edge2\" class=\"edge\">\n",
       "<title>1&#45;&gt;2</title>\n",
       "<path fill=\"none\" stroke=\"#000000\" d=\"M163.0146,-157.8941C152.3229,-148.7902 140.1016,-138.384 128.8231,-128.7805\"/>\n",
       "<polygon fill=\"#000000\" stroke=\"#000000\" points=\"131.0788,-126.1043 121.1959,-122.286 126.5407,-131.434 131.0788,-126.1043\"/>\n",
       "</g>\n",
       "<!-- 5 -->\n",
       "<g id=\"node6\" class=\"node\">\n",
       "<title>5</title>\n",
       "<polygon fill=\"#e58139\" fill-opacity=\"0.400000\" stroke=\"#000000\" points=\"236.2129,-115 150.7861,-115 150.7861,-79 236.2129,-79 236.2129,-115\"/>\n",
       "<text text-anchor=\"middle\" x=\"193.4995\" y=\"-99.8\" font-family=\"Times,serif\" font-size=\"14.00\" fill=\"#000000\">samples = 1</text>\n",
       "<text text-anchor=\"middle\" x=\"193.4995\" y=\"-85.8\" font-family=\"Times,serif\" font-size=\"14.00\" fill=\"#000000\">value = 50.0</text>\n",
       "</g>\n",
       "<!-- 1&#45;&gt;5 -->\n",
       "<g id=\"edge5\" class=\"edge\">\n",
       "<title>1&#45;&gt;5</title>\n",
       "<path fill=\"none\" stroke=\"#000000\" d=\"M192.7941,-157.6623C192.9122,-147.513 193.0486,-135.7747 193.1699,-125.3436\"/>\n",
       "<polygon fill=\"#000000\" stroke=\"#000000\" points=\"196.6728,-125.1078 193.2894,-115.0677 189.6733,-125.0263 196.6728,-125.1078\"/>\n",
       "</g>\n",
       "<!-- 3 -->\n",
       "<g id=\"node4\" class=\"node\">\n",
       "<title>3</title>\n",
       "<polygon fill=\"transparent\" stroke=\"#000000\" points=\"82.9985,-36 .0005,-36 .0005,0 82.9985,0 82.9985,-36\"/>\n",
       "<text text-anchor=\"middle\" x=\"41.4995\" y=\"-20.8\" font-family=\"Times,serif\" font-size=\"14.00\" fill=\"#000000\">samples = 1</text>\n",
       "<text text-anchor=\"middle\" x=\"41.4995\" y=\"-6.8\" font-family=\"Times,serif\" font-size=\"14.00\" fill=\"#000000\">value = 2.0</text>\n",
       "</g>\n",
       "<!-- 2&#45;&gt;3 -->\n",
       "<g id=\"edge3\" class=\"edge\">\n",
       "<title>2&#45;&gt;3</title>\n",
       "<path fill=\"none\" stroke=\"#000000\" d=\"M75.404,-71.5691C69.9798,-62.9989 63.9124,-53.4124 58.4261,-44.7441\"/>\n",
       "<polygon fill=\"#000000\" stroke=\"#000000\" points=\"61.276,-42.7022 52.9705,-36.1242 55.3611,-46.4458 61.276,-42.7022\"/>\n",
       "</g>\n",
       "<!-- 4 -->\n",
       "<g id=\"node5\" class=\"node\">\n",
       "<title>4</title>\n",
       "<polygon fill=\"#e58139\" fill-opacity=\"0.023529\" stroke=\"#000000\" points=\"183.9985,-36 101.0005,-36 101.0005,0 183.9985,0 183.9985,-36\"/>\n",
       "<text text-anchor=\"middle\" x=\"142.4995\" y=\"-20.8\" font-family=\"Times,serif\" font-size=\"14.00\" fill=\"#000000\">samples = 1</text>\n",
       "<text text-anchor=\"middle\" x=\"142.4995\" y=\"-6.8\" font-family=\"Times,serif\" font-size=\"14.00\" fill=\"#000000\">value = 5.0</text>\n",
       "</g>\n",
       "<!-- 2&#45;&gt;4 -->\n",
       "<g id=\"edge4\" class=\"edge\">\n",
       "<title>2&#45;&gt;4</title>\n",
       "<path fill=\"none\" stroke=\"#000000\" d=\"M107.917,-71.5691C113.4496,-62.9989 119.6383,-53.4124 125.2343,-44.7441\"/>\n",
       "<polygon fill=\"#000000\" stroke=\"#000000\" points=\"128.3158,-46.4239 130.7991,-36.1242 122.4348,-42.6273 128.3158,-46.4239\"/>\n",
       "</g>\n",
       "<!-- 7 -->\n",
       "<g id=\"node8\" class=\"node\">\n",
       "<title>7</title>\n",
       "<polygon fill=\"#e58139\" fill-opacity=\"0.666667\" stroke=\"#000000\" points=\"341.2129,-115 255.7861,-115 255.7861,-79 341.2129,-79 341.2129,-115\"/>\n",
       "<text text-anchor=\"middle\" x=\"298.4995\" y=\"-99.8\" font-family=\"Times,serif\" font-size=\"14.00\" fill=\"#000000\">samples = 1</text>\n",
       "<text text-anchor=\"middle\" x=\"298.4995\" y=\"-85.8\" font-family=\"Times,serif\" font-size=\"14.00\" fill=\"#000000\">value = 82.0</text>\n",
       "</g>\n",
       "<!-- 6&#45;&gt;7 -->\n",
       "<g id=\"edge7\" class=\"edge\">\n",
       "<title>6&#45;&gt;7</title>\n",
       "<path fill=\"none\" stroke=\"#000000\" d=\"M299.2049,-157.6623C299.0869,-147.513 298.9504,-135.7747 298.8291,-125.3436\"/>\n",
       "<polygon fill=\"#000000\" stroke=\"#000000\" points=\"302.3257,-125.0263 298.7096,-115.0677 295.3262,-125.1078 302.3257,-125.0263\"/>\n",
       "</g>\n",
       "<!-- 8 -->\n",
       "<g id=\"node9\" class=\"node\">\n",
       "<title>8</title>\n",
       "<polygon fill=\"#e58139\" stroke=\"#000000\" points=\"451.7128,-115 359.2862,-115 359.2862,-79 451.7128,-79 451.7128,-115\"/>\n",
       "<text text-anchor=\"middle\" x=\"405.4995\" y=\"-99.8\" font-family=\"Times,serif\" font-size=\"14.00\" fill=\"#000000\">samples = 1</text>\n",
       "<text text-anchor=\"middle\" x=\"405.4995\" y=\"-85.8\" font-family=\"Times,serif\" font-size=\"14.00\" fill=\"#000000\">value = 122.0</text>\n",
       "</g>\n",
       "<!-- 6&#45;&gt;8 -->\n",
       "<g id=\"edge8\" class=\"edge\">\n",
       "<title>6&#45;&gt;8</title>\n",
       "<path fill=\"none\" stroke=\"#000000\" d=\"M330.4441,-157.8941C344.5428,-146.4554 361.176,-132.9606 375.1965,-121.5855\"/>\n",
       "<polygon fill=\"#000000\" stroke=\"#000000\" points=\"377.5502,-124.1829 383.1107,-115.1645 373.1399,-118.7469 377.5502,-124.1829\"/>\n",
       "</g>\n",
       "</g>\n",
       "</svg>\n"
      ],
      "text/plain": [
       "<graphviz.files.Source at 0x1a25bbc7f0>"
      ]
     },
     "execution_count": 99,
     "metadata": {},
     "output_type": "execute_result"
    }
   ],
   "source": [
    "export_graphviz(forest.estimators_[3], out_file=\"graphviz/forest4.dot\", impurity=False, filled=True)\n",
    "with open(\"graphviz/forest4.dot\") as f: \n",
    "    dot_graph = f.read()\n",
    "graphviz.Source(dot_graph)\n"
   ]
  },
  {
   "cell_type": "code",
   "execution_count": 100,
   "metadata": {},
   "outputs": [
    {
     "data": {
      "image/svg+xml": [
       "<?xml version=\"1.0\" encoding=\"UTF-8\" standalone=\"no\"?>\n",
       "<!DOCTYPE svg PUBLIC \"-//W3C//DTD SVG 1.1//EN\"\n",
       " \"http://www.w3.org/Graphics/SVG/1.1/DTD/svg11.dtd\">\n",
       "<!-- Generated by graphviz version 2.40.1 (20161225.0304)\n",
       " -->\n",
       "<!-- Title: Tree Pages: 1 -->\n",
       "<svg width=\"303pt\" height=\"302pt\"\n",
       " viewBox=\"0.00 0.00 302.86 302.00\" xmlns=\"http://www.w3.org/2000/svg\" xmlns:xlink=\"http://www.w3.org/1999/xlink\">\n",
       "<g id=\"graph0\" class=\"graph\" transform=\"scale(1 1) rotate(0) translate(4 298)\">\n",
       "<title>Tree</title>\n",
       "<polygon fill=\"#ffffff\" stroke=\"transparent\" points=\"-4,4 -4,-298 298.856,-298 298.856,4 -4,4\"/>\n",
       "<!-- 0 -->\n",
       "<g id=\"node1\" class=\"node\">\n",
       "<title>0</title>\n",
       "<polygon fill=\"#e58139\" fill-opacity=\"0.407843\" stroke=\"#000000\" points=\"245.2128,-294 145.7862,-294 145.7862,-244 245.2128,-244 245.2128,-294\"/>\n",
       "<text text-anchor=\"middle\" x=\"195.4995\" y=\"-278.8\" font-family=\"Times,serif\" font-size=\"14.00\" fill=\"#000000\">X[0] &lt;= 7.5</text>\n",
       "<text text-anchor=\"middle\" x=\"195.4995\" y=\"-264.8\" font-family=\"Times,serif\" font-size=\"14.00\" fill=\"#000000\">samples = 4</text>\n",
       "<text text-anchor=\"middle\" x=\"195.4995\" y=\"-250.8\" font-family=\"Times,serif\" font-size=\"14.00\" fill=\"#000000\">value = 51.125</text>\n",
       "</g>\n",
       "<!-- 1 -->\n",
       "<g id=\"node2\" class=\"node\">\n",
       "<title>1</title>\n",
       "<polygon fill=\"#e58139\" fill-opacity=\"0.054902\" stroke=\"#000000\" points=\"183.9985,-208 101.0005,-208 101.0005,-158 183.9985,-158 183.9985,-208\"/>\n",
       "<text text-anchor=\"middle\" x=\"142.4995\" y=\"-192.8\" font-family=\"Times,serif\" font-size=\"14.00\" fill=\"#000000\">X[0] &lt;= 3.0</text>\n",
       "<text text-anchor=\"middle\" x=\"142.4995\" y=\"-178.8\" font-family=\"Times,serif\" font-size=\"14.00\" fill=\"#000000\">samples = 3</text>\n",
       "<text text-anchor=\"middle\" x=\"142.4995\" y=\"-164.8\" font-family=\"Times,serif\" font-size=\"14.00\" fill=\"#000000\">value = 8.6</text>\n",
       "</g>\n",
       "<!-- 0&#45;&gt;1 -->\n",
       "<g id=\"edge1\" class=\"edge\">\n",
       "<title>0&#45;&gt;1</title>\n",
       "<path fill=\"none\" stroke=\"#000000\" d=\"M179.8844,-243.6623C174.7088,-235.2642 168.8627,-225.7781 163.3574,-216.8448\"/>\n",
       "<polygon fill=\"#000000\" stroke=\"#000000\" points=\"166.2292,-214.8335 158.003,-208.1566 160.2699,-218.5061 166.2292,-214.8335\"/>\n",
       "<text text-anchor=\"middle\" x=\"152.2283\" y=\"-228.2805\" font-family=\"Times,serif\" font-size=\"14.00\" fill=\"#000000\">True</text>\n",
       "</g>\n",
       "<!-- 6 -->\n",
       "<g id=\"node7\" class=\"node\">\n",
       "<title>6</title>\n",
       "<polygon fill=\"#e58139\" stroke=\"#000000\" points=\"294.7128,-201 202.2862,-201 202.2862,-165 294.7128,-165 294.7128,-201\"/>\n",
       "<text text-anchor=\"middle\" x=\"248.4995\" y=\"-185.8\" font-family=\"Times,serif\" font-size=\"14.00\" fill=\"#000000\">samples = 1</text>\n",
       "<text text-anchor=\"middle\" x=\"248.4995\" y=\"-171.8\" font-family=\"Times,serif\" font-size=\"14.00\" fill=\"#000000\">value = 122.0</text>\n",
       "</g>\n",
       "<!-- 0&#45;&gt;6 -->\n",
       "<g id=\"edge6\" class=\"edge\">\n",
       "<title>0&#45;&gt;6</title>\n",
       "<path fill=\"none\" stroke=\"#000000\" d=\"M211.1146,-243.6623C217.6986,-232.9788 225.3676,-220.5347 232.04,-209.7078\"/>\n",
       "<polygon fill=\"#000000\" stroke=\"#000000\" points=\"235.0978,-211.4172 237.3648,-201.0677 229.1386,-207.7446 235.0978,-211.4172\"/>\n",
       "<text text-anchor=\"middle\" x=\"243.1395\" y=\"-221.1916\" font-family=\"Times,serif\" font-size=\"14.00\" fill=\"#000000\">False</text>\n",
       "</g>\n",
       "<!-- 2 -->\n",
       "<g id=\"node3\" class=\"node\">\n",
       "<title>2</title>\n",
       "<polygon fill=\"#e58139\" fill-opacity=\"0.007843\" stroke=\"#000000\" points=\"132.9985,-122 50.0005,-122 50.0005,-72 132.9985,-72 132.9985,-122\"/>\n",
       "<text text-anchor=\"middle\" x=\"91.4995\" y=\"-106.8\" font-family=\"Times,serif\" font-size=\"14.00\" fill=\"#000000\">X[0] &lt;= 1.5</text>\n",
       "<text text-anchor=\"middle\" x=\"91.4995\" y=\"-92.8\" font-family=\"Times,serif\" font-size=\"14.00\" fill=\"#000000\">samples = 2</text>\n",
       "<text text-anchor=\"middle\" x=\"91.4995\" y=\"-78.8\" font-family=\"Times,serif\" font-size=\"14.00\" fill=\"#000000\">value = 3.0</text>\n",
       "</g>\n",
       "<!-- 1&#45;&gt;2 -->\n",
       "<g id=\"edge2\" class=\"edge\">\n",
       "<title>1&#45;&gt;2</title>\n",
       "<path fill=\"none\" stroke=\"#000000\" d=\"M127.4737,-157.6623C122.4934,-149.2642 116.8679,-139.7781 111.5703,-130.8448\"/>\n",
       "<polygon fill=\"#000000\" stroke=\"#000000\" points=\"114.5292,-128.9726 106.418,-122.1566 108.5083,-132.5432 114.5292,-128.9726\"/>\n",
       "</g>\n",
       "<!-- 5 -->\n",
       "<g id=\"node6\" class=\"node\">\n",
       "<title>5</title>\n",
       "<polygon fill=\"#e58139\" fill-opacity=\"0.125490\" stroke=\"#000000\" points=\"236.2129,-115 150.7861,-115 150.7861,-79 236.2129,-79 236.2129,-115\"/>\n",
       "<text text-anchor=\"middle\" x=\"193.4995\" y=\"-99.8\" font-family=\"Times,serif\" font-size=\"14.00\" fill=\"#000000\">samples = 1</text>\n",
       "<text text-anchor=\"middle\" x=\"193.4995\" y=\"-85.8\" font-family=\"Times,serif\" font-size=\"14.00\" fill=\"#000000\">value = 17.0</text>\n",
       "</g>\n",
       "<!-- 1&#45;&gt;5 -->\n",
       "<g id=\"edge5\" class=\"edge\">\n",
       "<title>1&#45;&gt;5</title>\n",
       "<path fill=\"none\" stroke=\"#000000\" d=\"M157.5254,-157.6623C163.8609,-146.9788 171.2405,-134.5347 177.6611,-123.7078\"/>\n",
       "<polygon fill=\"#000000\" stroke=\"#000000\" points=\"180.6946,-125.4543 182.7849,-115.0677 174.6737,-121.8837 180.6946,-125.4543\"/>\n",
       "</g>\n",
       "<!-- 3 -->\n",
       "<g id=\"node4\" class=\"node\">\n",
       "<title>3</title>\n",
       "<polygon fill=\"transparent\" stroke=\"#000000\" points=\"82.9985,-36 .0005,-36 .0005,0 82.9985,0 82.9985,-36\"/>\n",
       "<text text-anchor=\"middle\" x=\"41.4995\" y=\"-20.8\" font-family=\"Times,serif\" font-size=\"14.00\" fill=\"#000000\">samples = 1</text>\n",
       "<text text-anchor=\"middle\" x=\"41.4995\" y=\"-6.8\" font-family=\"Times,serif\" font-size=\"14.00\" fill=\"#000000\">value = 2.0</text>\n",
       "</g>\n",
       "<!-- 2&#45;&gt;3 -->\n",
       "<g id=\"edge3\" class=\"edge\">\n",
       "<title>2&#45;&gt;3</title>\n",
       "<path fill=\"none\" stroke=\"#000000\" d=\"M75.404,-71.5691C69.9798,-62.9989 63.9124,-53.4124 58.4261,-44.7441\"/>\n",
       "<polygon fill=\"#000000\" stroke=\"#000000\" points=\"61.276,-42.7022 52.9705,-36.1242 55.3611,-46.4458 61.276,-42.7022\"/>\n",
       "</g>\n",
       "<!-- 4 -->\n",
       "<g id=\"node5\" class=\"node\">\n",
       "<title>4</title>\n",
       "<polygon fill=\"#e58139\" fill-opacity=\"0.023529\" stroke=\"#000000\" points=\"183.9985,-36 101.0005,-36 101.0005,0 183.9985,0 183.9985,-36\"/>\n",
       "<text text-anchor=\"middle\" x=\"142.4995\" y=\"-20.8\" font-family=\"Times,serif\" font-size=\"14.00\" fill=\"#000000\">samples = 1</text>\n",
       "<text text-anchor=\"middle\" x=\"142.4995\" y=\"-6.8\" font-family=\"Times,serif\" font-size=\"14.00\" fill=\"#000000\">value = 5.0</text>\n",
       "</g>\n",
       "<!-- 2&#45;&gt;4 -->\n",
       "<g id=\"edge4\" class=\"edge\">\n",
       "<title>2&#45;&gt;4</title>\n",
       "<path fill=\"none\" stroke=\"#000000\" d=\"M107.917,-71.5691C113.4496,-62.9989 119.6383,-53.4124 125.2343,-44.7441\"/>\n",
       "<polygon fill=\"#000000\" stroke=\"#000000\" points=\"128.3158,-46.4239 130.7991,-36.1242 122.4348,-42.6273 128.3158,-46.4239\"/>\n",
       "</g>\n",
       "</g>\n",
       "</svg>\n"
      ],
      "text/plain": [
       "<graphviz.files.Source at 0x1a25bbc7b8>"
      ]
     },
     "execution_count": 100,
     "metadata": {},
     "output_type": "execute_result"
    }
   ],
   "source": [
    "export_graphviz(forest.estimators_[4], out_file=\"graphviz/forest5.dot\", impurity=False, filled=True)\n",
    "with open(\"graphviz/forest5.dot\") as f: \n",
    "    dot_graph = f.read()\n",
    "graphviz.Source(dot_graph)"
   ]
  }
 ],
 "metadata": {
  "kernelspec": {
   "display_name": "Python 3",
   "language": "python",
   "name": "python3"
  },
  "language_info": {
   "codemirror_mode": {
    "name": "ipython",
    "version": 3
   },
   "file_extension": ".py",
   "mimetype": "text/x-python",
   "name": "python",
   "nbconvert_exporter": "python",
   "pygments_lexer": "ipython3",
   "version": "3.6.6"
  }
 },
 "nbformat": 4,
 "nbformat_minor": 2
}
