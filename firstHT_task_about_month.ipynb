{
 "cells": [
  {
   "cell_type": "code",
   "execution_count": 1,
   "metadata": {},
   "outputs": [],
   "source": [
    "import pandas as pd\n",
    "import matplotlib.pyplot as plt\n",
    "import numpy as np\n",
    "%matplotlib inline \n",
    "from sklearn.model_selection import train_test_split\n",
    "from sklearn import metrics \n",
    "%config InlineBackend.figure_format = 'retina' #Эта строчка улучшает качевство на маках с ретиной. \n",
    "                                                #Если у вас не ретина, удалите"
   ]
  },
  {
   "cell_type": "code",
   "execution_count": 38,
   "metadata": {},
   "outputs": [],
   "source": [
    "x = [1,2,3,4,5,6,7,8,9,10,11]\n",
    "y = [2,5,10,17,26,37,50,65,82,101,122]"
   ]
  },
  {
   "cell_type": "code",
   "execution_count": 39,
   "metadata": {},
   "outputs": [],
   "source": [
    "# не обязательно\n",
    "# что, если данных больше?\n",
    "# def f(x):\n",
    "#     return x**2+1\n",
    "\n",
    "# amount = 100\n",
    "# y = []\n",
    "# x = list(range(amount))\n",
    "# for i in range(amount):\n",
    "#     y.append(f(i))\n"
   ]
  },
  {
   "cell_type": "code",
   "execution_count": 40,
   "metadata": {},
   "outputs": [
    {
     "data": {
      "text/html": [
       "<div>\n",
       "<style scoped>\n",
       "    .dataframe tbody tr th:only-of-type {\n",
       "        vertical-align: middle;\n",
       "    }\n",
       "\n",
       "    .dataframe tbody tr th {\n",
       "        vertical-align: top;\n",
       "    }\n",
       "\n",
       "    .dataframe thead th {\n",
       "        text-align: right;\n",
       "    }\n",
       "</style>\n",
       "<table border=\"1\" class=\"dataframe\">\n",
       "  <thead>\n",
       "    <tr style=\"text-align: right;\">\n",
       "      <th></th>\n",
       "      <th>x</th>\n",
       "      <th>y</th>\n",
       "    </tr>\n",
       "  </thead>\n",
       "  <tbody>\n",
       "    <tr>\n",
       "      <th>0</th>\n",
       "      <td>1</td>\n",
       "      <td>2</td>\n",
       "    </tr>\n",
       "    <tr>\n",
       "      <th>1</th>\n",
       "      <td>2</td>\n",
       "      <td>5</td>\n",
       "    </tr>\n",
       "    <tr>\n",
       "      <th>2</th>\n",
       "      <td>3</td>\n",
       "      <td>10</td>\n",
       "    </tr>\n",
       "    <tr>\n",
       "      <th>3</th>\n",
       "      <td>4</td>\n",
       "      <td>17</td>\n",
       "    </tr>\n",
       "    <tr>\n",
       "      <th>4</th>\n",
       "      <td>5</td>\n",
       "      <td>26</td>\n",
       "    </tr>\n",
       "    <tr>\n",
       "      <th>5</th>\n",
       "      <td>6</td>\n",
       "      <td>37</td>\n",
       "    </tr>\n",
       "    <tr>\n",
       "      <th>6</th>\n",
       "      <td>7</td>\n",
       "      <td>50</td>\n",
       "    </tr>\n",
       "    <tr>\n",
       "      <th>7</th>\n",
       "      <td>8</td>\n",
       "      <td>65</td>\n",
       "    </tr>\n",
       "    <tr>\n",
       "      <th>8</th>\n",
       "      <td>9</td>\n",
       "      <td>82</td>\n",
       "    </tr>\n",
       "    <tr>\n",
       "      <th>9</th>\n",
       "      <td>10</td>\n",
       "      <td>101</td>\n",
       "    </tr>\n",
       "    <tr>\n",
       "      <th>10</th>\n",
       "      <td>11</td>\n",
       "      <td>122</td>\n",
       "    </tr>\n",
       "  </tbody>\n",
       "</table>\n",
       "</div>"
      ],
      "text/plain": [
       "     x    y\n",
       "0    1    2\n",
       "1    2    5\n",
       "2    3   10\n",
       "3    4   17\n",
       "4    5   26\n",
       "5    6   37\n",
       "6    7   50\n",
       "7    8   65\n",
       "8    9   82\n",
       "9   10  101\n",
       "10  11  122"
      ]
     },
     "execution_count": 40,
     "metadata": {},
     "output_type": "execute_result"
    }
   ],
   "source": [
    "df = pd.DataFrame({'x' : x, 'y' : y})\n",
    "df"
   ]
  },
  {
   "cell_type": "markdown",
   "metadata": {},
   "source": [
    "## Давайте отобразим наши данные на графике, чтобы понять, с чем имеем дело"
   ]
  },
  {
   "cell_type": "code",
   "execution_count": 85,
   "metadata": {},
   "outputs": [
    {
     "data": {
      "image/png": "[encoded data removed]",
      "text/plain": [
       "<Figure size 432x288 with 1 Axes>"
      ]
     },
     "metadata": {
      "image/png": {
       "height": 277,
       "width": 390
      },
      "needs_background": "light"
     },
     "output_type": "display_data"
    }
   ],
   "source": [
    "df.plot(x='x', y='y', style='o')  \n",
    "plt.title('Зависимость продаж от месяца')  \n",
    "plt.xlabel('месяц по счету')  \n",
    "plt.ylabel('продажи')  \n",
    "plt.show()  "
   ]
  },
  {
   "cell_type": "markdown",
   "metadata": {},
   "source": [
    "## \"Обзовем\" данные, согласно традициям ML, так же разобьем их на тестовые и тренировочные"
   ]
  },
  {
   "cell_type": "code",
   "execution_count": 42,
   "metadata": {},
   "outputs": [],
   "source": [
    "x = np.array(x).reshape(-1, 1)\n",
    "y = np.array(y).reshape(-1, 1)\n",
    "X_train, X_test, y_train, y_test = train_test_split(x, y, random_state=0)"
   ]
  },
  {
   "cell_type": "markdown",
   "metadata": {},
   "source": [
    "## Давайте посмотрим на то, как выглядят разбитые данные"
   ]
  },
  {
   "cell_type": "markdown",
   "metadata": {},
   "source": [
    "## Так выглядит тренировочная выборка"
   ]
  },
  {
   "cell_type": "code",
   "execution_count": 43,
   "metadata": {},
   "outputs": [
    {
     "data": {
      "image/png": "[encoded data removed]",
      "text/plain": [
       "<Figure size 432x288 with 1 Axes>"
      ]
     },
     "metadata": {
      "image/png": {
       "height": 250,
       "width": 377
      },
      "needs_background": "light"
     },
     "output_type": "display_data"
    }
   ],
   "source": [
    "plt.scatter(X_train, y_train)\n",
    "plt.show()"
   ]
  },
  {
   "cell_type": "markdown",
   "metadata": {},
   "source": [
    "## А так - тестовая"
   ]
  },
  {
   "cell_type": "code",
   "execution_count": 44,
   "metadata": {},
   "outputs": [
    {
     "data": {
      "image/png": "[encoded data removed]",
      "text/plain": [
       "<Figure size 432x288 with 1 Axes>"
      ]
     },
     "metadata": {
      "image/png": {
       "height": 250,
       "width": 377
      },
      "needs_background": "light"
     },
     "output_type": "display_data"
    }
   ],
   "source": [
    "plt.scatter(X_test, y_test)\n",
    "plt.show()"
   ]
  },
  {
   "cell_type": "markdown",
   "metadata": {},
   "source": [
    "## Первой попробуем линейную регрессию"
   ]
  },
  {
   "cell_type": "code",
   "execution_count": 45,
   "metadata": {},
   "outputs": [
    {
     "data": {
      "text/html": [
       "<div>\n",
       "<style scoped>\n",
       "    .dataframe tbody tr th:only-of-type {\n",
       "        vertical-align: middle;\n",
       "    }\n",
       "\n",
       "    .dataframe tbody tr th {\n",
       "        vertical-align: top;\n",
       "    }\n",
       "\n",
       "    .dataframe thead th {\n",
       "        text-align: right;\n",
       "    }\n",
       "</style>\n",
       "<table border=\"1\" class=\"dataframe\">\n",
       "  <thead>\n",
       "    <tr style=\"text-align: right;\">\n",
       "      <th></th>\n",
       "      <th>Actual</th>\n",
       "      <th>Predicted</th>\n",
       "    </tr>\n",
       "  </thead>\n",
       "  <tbody>\n",
       "    <tr>\n",
       "      <th>0</th>\n",
       "      <td>26</td>\n",
       "      <td>35.928571</td>\n",
       "    </tr>\n",
       "    <tr>\n",
       "      <th>1</th>\n",
       "      <td>101</td>\n",
       "      <td>93.785714</td>\n",
       "    </tr>\n",
       "    <tr>\n",
       "      <th>2</th>\n",
       "      <td>10</td>\n",
       "      <td>12.785714</td>\n",
       "    </tr>\n",
       "  </tbody>\n",
       "</table>\n",
       "</div>"
      ],
      "text/plain": [
       "   Actual  Predicted\n",
       "0      26  35.928571\n",
       "1     101  93.785714\n",
       "2      10  12.785714"
      ]
     },
     "execution_count": 45,
     "metadata": {},
     "output_type": "execute_result"
    }
   ],
   "source": [
    "from sklearn.linear_model import LinearRegression# импортируем линейную регрессию\n",
    "\n",
    "linReg = LinearRegression() # в переменную записываем нашу регерссию \n",
    "linReg.fit(X_train, y_train) # обучаем\n",
    "linReg_y_pred = linReg.predict(X_test) #записываем предсказания\n",
    "\n",
    "linReg_df_pred = pd.DataFrame({'Actual': np.reshape(y_test,len(y_test)), 'Predicted': np.reshape(linReg_y_pred,len(linReg_y_pred))})\n",
    "linReg_df_pred"
   ]
  },
  {
   "cell_type": "code",
   "execution_count": 46,
   "metadata": {},
   "outputs": [
    {
     "name": "stdout",
     "output_type": "stream",
     "text": [
      "Mean Absolute Error: 6.642857142857139\n",
      "Mean Squared Error: 52.79421768707476\n",
      "Root Mean Squared Error: 7.265962956626931\n"
     ]
    }
   ],
   "source": [
    "linReg_MAE = metrics.mean_absolute_error(y_test, linReg_y_pred)\n",
    "linReg_MSE = metrics.mean_squared_error(y_test, linReg_y_pred)\n",
    "linReg_RMSE = np.sqrt(metrics.mean_squared_error(y_test, linReg_y_pred))\n",
    "print('Mean Absolute Error:', linReg_MAE)  \n",
    "print('Mean Squared Error:', linReg_MSE)  \n",
    "print('Root Mean Squared Error:',linReg_RMSE ) "
   ]
  },
  {
   "cell_type": "markdown",
   "metadata": {},
   "source": [
    "## Попробуем другой алгоритм регрессии - KNeighborsRegressor(Регрессия К ближайших соседей)"
   ]
  },
  {
   "cell_type": "code",
   "execution_count": 47,
   "metadata": {},
   "outputs": [
    {
     "data": {
      "text/html": [
       "<div>\n",
       "<style scoped>\n",
       "    .dataframe tbody tr th:only-of-type {\n",
       "        vertical-align: middle;\n",
       "    }\n",
       "\n",
       "    .dataframe tbody tr th {\n",
       "        vertical-align: top;\n",
       "    }\n",
       "\n",
       "    .dataframe thead th {\n",
       "        text-align: right;\n",
       "    }\n",
       "</style>\n",
       "<table border=\"1\" class=\"dataframe\">\n",
       "  <thead>\n",
       "    <tr style=\"text-align: right;\">\n",
       "      <th></th>\n",
       "      <th>Actual</th>\n",
       "      <th>Predicted</th>\n",
       "    </tr>\n",
       "  </thead>\n",
       "  <tbody>\n",
       "    <tr>\n",
       "      <th>0</th>\n",
       "      <td>26</td>\n",
       "      <td>34.8</td>\n",
       "    </tr>\n",
       "    <tr>\n",
       "      <th>1</th>\n",
       "      <td>101</td>\n",
       "      <td>71.2</td>\n",
       "    </tr>\n",
       "    <tr>\n",
       "      <th>2</th>\n",
       "      <td>10</td>\n",
       "      <td>22.2</td>\n",
       "    </tr>\n",
       "  </tbody>\n",
       "</table>\n",
       "</div>"
      ],
      "text/plain": [
       "   Actual  Predicted\n",
       "0      26       34.8\n",
       "1     101       71.2\n",
       "2      10       22.2"
      ]
     },
     "execution_count": 47,
     "metadata": {},
     "output_type": "execute_result"
    }
   ],
   "source": [
    "from sklearn.neighbors import KNeighborsRegressor \n",
    "\n",
    "KNReg = KNeighborsRegressor()\n",
    "KNReg.fit(X_train, y_train) \n",
    "\n",
    "KNReg_y_pred = KNReg.predict(X_test)\n",
    "\n",
    "KNReg_df_pred = pd.DataFrame({'Actual': np.reshape(y_test,len(y_test)), 'Predicted': np.reshape(KNReg_y_pred,len(KNReg_y_pred))})\n",
    "KNReg_df_pred"
   ]
  },
  {
   "cell_type": "code",
   "execution_count": 48,
   "metadata": {},
   "outputs": [
    {
     "name": "stdout",
     "output_type": "stream",
     "text": [
      "Mean Absolute Error: 16.933333333333334\n",
      "Mean Squared Error: 371.4399999999999\n",
      "Root Mean Squared Error: 19.27277873063456\n"
     ]
    }
   ],
   "source": [
    "KNReg_MAE = metrics.mean_absolute_error(y_test, KNReg_y_pred)\n",
    "KNReg_MSE = metrics.mean_squared_error(y_test, KNReg_y_pred)\n",
    "KNReg_RMSE = np.sqrt(metrics.mean_squared_error(y_test, KNReg_y_pred))\n",
    "print('Mean Absolute Error:', KNReg_MAE)  \n",
    "print('Mean Squared Error:', KNReg_MSE)  \n",
    "print('Root Mean Squared Error:', KNReg_RMSE) "
   ]
  },
  {
   "cell_type": "markdown",
   "metadata": {},
   "source": [
    "## При стандартном значении кол-ва соседей резултат совсем не радостный. Попробуем n_neighbors=2"
   ]
  },
  {
   "cell_type": "code",
   "execution_count": 49,
   "metadata": {},
   "outputs": [
    {
     "data": {
      "text/html": [
       "<div>\n",
       "<style scoped>\n",
       "    .dataframe tbody tr th:only-of-type {\n",
       "        vertical-align: middle;\n",
       "    }\n",
       "\n",
       "    .dataframe tbody tr th {\n",
       "        vertical-align: top;\n",
       "    }\n",
       "\n",
       "    .dataframe thead th {\n",
       "        text-align: right;\n",
       "    }\n",
       "</style>\n",
       "<table border=\"1\" class=\"dataframe\">\n",
       "  <thead>\n",
       "    <tr style=\"text-align: right;\">\n",
       "      <th></th>\n",
       "      <th>Actual</th>\n",
       "      <th>Predicted</th>\n",
       "    </tr>\n",
       "  </thead>\n",
       "  <tbody>\n",
       "    <tr>\n",
       "      <th>0</th>\n",
       "      <td>26</td>\n",
       "      <td>27.0</td>\n",
       "    </tr>\n",
       "    <tr>\n",
       "      <th>1</th>\n",
       "      <td>101</td>\n",
       "      <td>102.0</td>\n",
       "    </tr>\n",
       "    <tr>\n",
       "      <th>2</th>\n",
       "      <td>10</td>\n",
       "      <td>11.0</td>\n",
       "    </tr>\n",
       "  </tbody>\n",
       "</table>\n",
       "</div>"
      ],
      "text/plain": [
       "   Actual  Predicted\n",
       "0      26       27.0\n",
       "1     101      102.0\n",
       "2      10       11.0"
      ]
     },
     "execution_count": 49,
     "metadata": {},
     "output_type": "execute_result"
    }
   ],
   "source": [
    "from sklearn.neighbors import KNeighborsRegressor \n",
    "\n",
    "KNReg = KNeighborsRegressor(n_neighbors=2)\n",
    "KNReg.fit(X_train, y_train) \n",
    "\n",
    "KNReg_y_pred = KNReg.predict(X_test)\n",
    "\n",
    "KNReg_df_pred = pd.DataFrame({'Actual': np.reshape(y_test,len(y_test)), 'Predicted': np.reshape(KNReg_y_pred,len(KNReg_y_pred))})\n",
    "KNReg_df_pred"
   ]
  },
  {
   "cell_type": "code",
   "execution_count": 50,
   "metadata": {},
   "outputs": [
    {
     "name": "stdout",
     "output_type": "stream",
     "text": [
      "Mean Absolute Error: 1.0\n",
      "Mean Squared Error: 1.0\n",
      "Root Mean Squared Error: 1.0\n"
     ]
    }
   ],
   "source": [
    "KNReg_MAE = metrics.mean_absolute_error(y_test, KNReg_y_pred)\n",
    "KNReg_MSE = metrics.mean_squared_error(y_test, KNReg_y_pred)\n",
    "KNReg_RMSE = np.sqrt(metrics.mean_squared_error(y_test, KNReg_y_pred))\n",
    "print('Mean Absolute Error:', KNReg_MAE)  \n",
    "print('Mean Squared Error:', KNReg_MSE)  \n",
    "print('Root Mean Squared Error:', KNReg_RMSE) "
   ]
  },
  {
   "cell_type": "markdown",
   "metadata": {},
   "source": [
    "## результат уже очень хорош"
   ]
  },
  {
   "cell_type": "markdown",
   "metadata": {},
   "source": [
    "Смысла пробовать *Ridge* или *Lasso* нет, так как данные описаны параболой и мы уже убедились в неэффективности линейных регрессий. Эти же будут даже менее эффективны, так как гребневая прибегнет у уменьшению коэф-ов, а лассо и вовсе не будет иметь смысла, так как признак только один и избавляться не от чего"
   ]
  },
  {
   "cell_type": "markdown",
   "metadata": {},
   "source": [
    "*Деревья*, *случайный лес* или *бустинг деревьев* так же не дадут результата, так как данные описываются не условиями, а зависимостью"
   ]
  },
  {
   "cell_type": "markdown",
   "metadata": {},
   "source": [
    "## Однако, мы забыли про полиномиальную зависимость - по определению лучшую для нашей ситуации"
   ]
  },
  {
   "cell_type": "code",
   "execution_count": 55,
   "metadata": {},
   "outputs": [
    {
     "data": {
      "text/html": [
       "<div>\n",
       "<style scoped>\n",
       "    .dataframe tbody tr th:only-of-type {\n",
       "        vertical-align: middle;\n",
       "    }\n",
       "\n",
       "    .dataframe tbody tr th {\n",
       "        vertical-align: top;\n",
       "    }\n",
       "\n",
       "    .dataframe thead th {\n",
       "        text-align: right;\n",
       "    }\n",
       "</style>\n",
       "<table border=\"1\" class=\"dataframe\">\n",
       "  <thead>\n",
       "    <tr style=\"text-align: right;\">\n",
       "      <th></th>\n",
       "      <th>Actual</th>\n",
       "      <th>Predicted</th>\n",
       "    </tr>\n",
       "  </thead>\n",
       "  <tbody>\n",
       "    <tr>\n",
       "      <th>0</th>\n",
       "      <td>26</td>\n",
       "      <td>26.032896</td>\n",
       "    </tr>\n",
       "    <tr>\n",
       "      <th>1</th>\n",
       "      <td>101</td>\n",
       "      <td>100.982400</td>\n",
       "    </tr>\n",
       "    <tr>\n",
       "      <th>2</th>\n",
       "      <td>10</td>\n",
       "      <td>10.053658</td>\n",
       "    </tr>\n",
       "  </tbody>\n",
       "</table>\n",
       "</div>"
      ],
      "text/plain": [
       "   Actual   Predicted\n",
       "0      26   26.032896\n",
       "1     101  100.982400\n",
       "2      10   10.053658"
      ]
     },
     "execution_count": 55,
     "metadata": {},
     "output_type": "execute_result"
    }
   ],
   "source": [
    "from sklearn.linear_model import Ridge\n",
    "from sklearn.preprocessing import PolynomialFeatures\n",
    "from sklearn.pipeline import make_pipeline\n",
    "\n",
    "polynomReg = make_pipeline(PolynomialFeatures(3), Ridge())\n",
    "polynomReg.fit(X_train, y_train)\n",
    "\n",
    "polynomReg_y_pred = polynomReg.predict(X_test)\n",
    "\n",
    "polynomReg_df_pred = pd.DataFrame({'Actual': np.reshape(y_test,len(y_test)), \n",
    "                                   'Predicted': np.reshape(polynomReg_y_pred,len(polynomReg_y_pred))})\n",
    "polynomReg_df_pred"
   ]
  },
  {
   "cell_type": "code",
   "execution_count": 56,
   "metadata": {},
   "outputs": [
    {
     "name": "stdout",
     "output_type": "stream",
     "text": [
      "Mean Absolute Error: 0.0347181074918641\n",
      "Mean Squared Error: 0.0014236914297022201\n",
      "Root Mean Squared Error: 0.037731835758444354\n"
     ]
    }
   ],
   "source": [
    "polynomReg_MAE = metrics.mean_absolute_error(y_test, polynomReg_y_pred)\n",
    "polynomReg_MSE = metrics.mean_squared_error(y_test, polynomReg_y_pred)\n",
    "polynomReg_RMSE = np.sqrt(metrics.mean_squared_error(y_test, polynomReg_y_pred))\n",
    "print('Mean Absolute Error:', polynomReg_MAE)  \n",
    "print('Mean Squared Error:', polynomReg_MSE)  \n",
    "print('Root Mean Squared Error:', polynomReg_RMSE) "
   ]
  },
  {
   "cell_type": "markdown",
   "metadata": {},
   "source": [
    "# А теперь более наглядно\n",
    "    есть метод .score\n",
    "    давайте посмотрим правильность разных моделей в процентах"
   ]
  },
  {
   "cell_type": "code",
   "execution_count": 57,
   "metadata": {},
   "outputs": [
    {
     "name": "stdout",
     "output_type": "stream",
     "text": [
      "Правильность KNreg на обучающем наборе: 0.944\n",
      "Правильность KNreg на тестовом наборе: 0.999\n"
     ]
    }
   ],
   "source": [
    "print(\"Правильность KNreg на обучающем наборе: {:.3f}\".format(KNReg.score(X_train, y_train))) \n",
    "print(\"Правильность KNreg на тестовом наборе: {:.3f}\".format(KNReg.score(X_test, y_test))) "
   ]
  },
  {
   "cell_type": "code",
   "execution_count": 58,
   "metadata": {},
   "outputs": [
    {
     "name": "stdout",
     "output_type": "stream",
     "text": [
      "Правильность linReg на обучающем наборе: 0.940\n",
      "Правильность linReg на тестовом наборе: 0.966\n"
     ]
    }
   ],
   "source": [
    "print(\"Правильность linReg на обучающем наборе: {:.3f}\".format(linReg.score(X_train, y_train))) \n",
    "print(\"Правильность linReg на тестовом наборе: {:.3f}\".format(linReg.score(X_test, y_test))) "
   ]
  },
  {
   "cell_type": "code",
   "execution_count": 59,
   "metadata": {},
   "outputs": [
    {
     "name": "stdout",
     "output_type": "stream",
     "text": [
      "Правильность polynomReg на обучающем наборе: 1.000\n",
      "Правильность polynomReg на тестовом наборе: 1.000\n"
     ]
    }
   ],
   "source": [
    "print(\"Правильность polynomReg на обучающем наборе: {:.3f}\".format(polynomReg.score(X_train, y_train))) \n",
    "print(\"Правильность polynomReg на тестовом наборе: {:.3f}\".format(polynomReg.score(X_test, y_test))) "
   ]
  },
  {
   "cell_type": "code",
   "execution_count": 102,
   "metadata": {},
   "outputs": [
    {
     "data": {
      "image/png": "[encoded data removed]",
      "text/plain": [
       "<Figure size 432x288 with 1 Axes>"
      ]
     },
     "metadata": {
      "image/png": {
       "height": 250,
       "width": 377
      },
      "needs_background": "light"
     },
     "output_type": "display_data"
    }
   ],
   "source": [
    "def f(x):\n",
    "    return x**2+1\n",
    "\n",
    "x_plot = np.linspace(1, 20)\n",
    "X_plot = x_plot[:, np.newaxis]\n",
    "lw = 2\n",
    "\n",
    "colors = ['teal', 'yellowgreen', 'gold']\n",
    "\n",
    "plt.scatter(x,y,marker='X', color='green',label=\"тренировочные данные\")\n",
    "\n",
    "plt.plot(x_plot, f(x_plot), color='cornflowerblue', linewidth=lw,\n",
    "         label=\"Реальные данные\")\n",
    "\n",
    "\n",
    "y_plot = KNReg.predict(X_plot)\n",
    "plt.plot(x_plot, y_plot, color=colors[0], linewidth=lw,\n",
    "             label=\"К ближайших соседей\")\n",
    "\n",
    "y_plot = linReg.predict(X_plot)\n",
    "plt.plot(x_plot, y_plot, color=colors[1], linewidth=lw,\n",
    "             label=\"Линейная регрессия\")\n",
    "\n",
    "y_plot = polynomReg.predict(X_plot)\n",
    "plt.plot(x_plot, y_plot,color=colors[2], linewidth=lw,\n",
    "             label=\"Полином\")\n",
    "\n",
    "plt.legend(loc='best')\n",
    "plt.show()"
   ]
  },
  {
   "cell_type": "code",
   "execution_count": null,
   "metadata": {},
   "outputs": [],
   "source": []
  }
 ],
 "metadata": {
  "kernelspec": {
   "display_name": "Python 3",
   "language": "python",
   "name": "python3"
  },
  "language_info": {
   "codemirror_mode": {
    "name": "ipython",
    "version": 3
   },
   "file_extension": ".py",
   "mimetype": "text/x-python",
   "name": "python",
   "nbconvert_exporter": "python",
   "pygments_lexer": "ipython3",
   "version": "3.6.6"
  }
 },
 "nbformat": 4,
 "nbformat_minor": 2
}
